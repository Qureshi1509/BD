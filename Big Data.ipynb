{
 "cells": [
  {
   "cell_type": "markdown",
   "metadata": {
    "id": "sT8yTXet-AS4"
   },
   "source": [
    "**Name: Afrin Qureshi**\n",
    "\n",
    "**Rollno:L026**\n",
    "\n",
    "**Subject: Big Data Analysis**\n",
    "\n"
   ]
  },
  {
   "cell_type": "markdown",
   "metadata": {
    "id": "oFJRIgjRzfMB"
   },
   "source": [
    "# **Practical 01 : Practical on SparkSQL**"
   ]
  },
  {
   "cell_type": "code",
   "execution_count": 4,
   "metadata": {
    "id": "DU-yCTdnzagi"
   },
   "outputs": [],
   "source": [
    "!pip install pyspark\n",
    "\n",
    "from pyspark.sql import SparkSession\n",
    "spark = SparkSession.builder.getOrCreate()\n",
    "import pandas as pd"
   ]
  },
  {
   "cell_type": "code",
   "execution_count": 5,
   "metadata": {
    "colab": {
     "base_uri": "https://localhost:8080/",
     "height": 0
    },
    "id": "e_0mg4KFzYjQ",
    "outputId": "a3bf079c-98ed-4dbb-ab4d-806576e24699"
   },
   "outputs": [
    {
     "name": "stdout",
     "output_type": "stream",
     "text": [
      "+---------+--------+-------+-----+\n",
      "|firstname|lastname|country|state|\n",
      "+---------+--------+-------+-----+\n",
      "|    James|   Smith|    USA|   CA|\n",
      "|  Michael|    Rose|    USA|   NY|\n",
      "|   Robert|Williams|    USA|   CA|\n",
      "|    Maria|   Jones|    USA|   FL|\n",
      "+---------+--------+-------+-----+\n",
      "\n"
     ]
    }
   ],
   "source": [
    "data = [(\"James\",\"Smith\",\"USA\",\"CA\"),(\"Michael\",\"Rose\",\"USA\",\"NY\"),\n",
    "    (\"Robert\",\"Williams\",\"USA\",\"CA\"),(\"Maria\",\"Jones\",\"USA\",\"FL\")\n",
    "  ]\n",
    "columns=[\"firstname\",\"lastname\",\"country\",\"state\"]\n",
    "df=spark.createDataFrame(data=data,schema=columns)\n",
    "#df.printSchema()\n",
    "df.show()\n",
    "#print(df.collect())"
   ]
  },
  {
   "cell_type": "code",
   "execution_count": 6,
   "metadata": {
    "colab": {
     "base_uri": "https://localhost:8080/",
     "height": 0
    },
    "id": "HW8KcF0x0P7t",
    "outputId": "05687bee-6395-4fc8-d478-4a3c2164b19b"
   },
   "outputs": [
    {
     "name": "stdout",
     "output_type": "stream",
     "text": [
      "+----------+---------+----------+\n",
      "|      date|increment|  inc_date|\n",
      "+----------+---------+----------+\n",
      "|2019-01-23|        1|2019-02-23|\n",
      "|2019-06-24|        2|2019-08-24|\n",
      "|2019-09-20|        5|2020-02-20|\n",
      "+----------+---------+----------+\n",
      "\n"
     ]
    }
   ],
   "source": [
    "from pyspark.sql.functions import col,expr\n",
    "data=[(\"2019-01-23\",1),(\"2019-06-24\",2),(\"2019-09-20\",5)]\n",
    "spark.createDataFrame(data).toDF(\"date\",\"increment\") \\\n",
    "    .select(col(\"date\"),col(\"increment\"), \\\n",
    "      expr(\"add_months(to_date(date,'yyyy-MM-dd'),cast(increment as int))\").alias(\"inc_date\")) \\\n",
    "    .show()"
   ]
  },
  {
   "cell_type": "code",
   "execution_count": 8,
   "metadata": {
    "colab": {
     "base_uri": "https://localhost:8080/",
     "height": 0
    },
    "id": "Y8qzaIEi0WBI",
    "outputId": "bbe67c70-29b4-4baa-bcf8-3219b109110b",
    "scrolled": true
   },
   "outputs": [
    {
     "name": "stdout",
     "output_type": "stream",
     "text": [
      "+---+\n",
      "|seq|\n",
      "+---+\n",
      "|  1|\n",
      "+---+\n",
      "\n"
     ]
    }
   ],
   "source": [
    "from pyspark.sql.functions import col\n",
    "from pyspark.sql.functions import to_timestamp, current_timestamp\n",
    "from pyspark.sql.types import StructType, StructField, StringType, IntegerType, LongType\n",
    "spark = SparkSession.builder.appName('SparkByExamples.com').getOrCreate()\n",
    "\n",
    "schema = StructType([\n",
    "            StructField(\"seq\", StringType(), True)])\n",
    "\n",
    "# Modify the data to be a list of strings\n",
    "dates = [['1']]  # Now a list containing a single-element list\n",
    "\n",
    "df = spark.createDataFrame(dates, schema=schema)\n",
    "\n",
    "df.show()"
   ]
  },
  {
   "cell_type": "markdown",
   "metadata": {
    "id": "387XOxUf0hcH"
   },
   "source": [
    "\n",
    "\n",
    "\n",
    "\n",
    "\n",
    "\n",
    "\n",
    "\n",
    "\n",
    "# **Practical 02 : PySpark with pipline**"
   ]
  },
  {
   "cell_type": "code",
   "execution_count": 9,
   "metadata": {
    "id": "xiY2GsMK0mNy"
   },
   "outputs": [],
   "source": [
    "from pyspark.sql import SparkSession\n",
    "from pyspark import SparkContext\n",
    "spark = SparkSession.builder.getOrCreate()\n",
    "import pandas as pd\n",
    "import pyspark.sql.types as tp\n",
    "from pyspark.ml.feature import Imputer\n",
    "from pyspark.ml.feature import VectorAssembler\n",
    "from pyspark.ml.classification import LogisticRegression"
   ]
  },
  {
   "cell_type": "code",
   "execution_count": 10,
   "metadata": {
    "id": "kegJah-Z0vQf"
   },
   "outputs": [],
   "source": [
    "#read csv file\n",
    "my_data=spark.read.csv('/content/drive/MyDrive/diabetes.csv',header=True)"
   ]
  },
  {
   "cell_type": "code",
   "execution_count": 11,
   "metadata": {
    "colab": {
     "base_uri": "https://localhost:8080/",
     "height": 0
    },
    "id": "uaLKgRJ708te",
    "outputId": "3c6d4d07-4fe3-4634-ae47-b67b67c03bb5"
   },
   "outputs": [
    {
     "name": "stdout",
     "output_type": "stream",
     "text": [
      "+-----------+-------+-------------+-------------+-------+----+------------------------+---+-------+\n",
      "|Pregnancies|Glucose|BloodPressure|SkinThickness|Insulin| BMI|DiabetesPedigreeFunction|Age|Outcome|\n",
      "+-----------+-------+-------------+-------------+-------+----+------------------------+---+-------+\n",
      "|          6|    148|           72|           35|      0|33.6|                   0.627| 50|      1|\n",
      "|          1|     85|           66|           29|      0|26.6|                   0.351| 31|      0|\n",
      "|          8|    183|           64|            0|      0|23.3|                   0.672| 32|      1|\n",
      "|          1|     89|           66|           23|     94|28.1|                   0.167| 21|      0|\n",
      "|          0|    137|           40|           35|    168|43.1|                   2.288| 33|      1|\n",
      "|          5|    116|           74|            0|      0|25.6|                   0.201| 30|      0|\n",
      "|          3|     78|           50|           32|     88|  31|                   0.248| 26|      1|\n",
      "|         10|    115|            0|            0|      0|35.3|                   0.134| 29|      0|\n",
      "|          2|    197|           70|           45|    543|30.5|                   0.158| 53|      1|\n",
      "|          8|    125|           96|            0|      0|   0|                   0.232| 54|      1|\n",
      "|          4|    110|           92|            0|      0|37.6|                   0.191| 30|      0|\n",
      "|         10|    168|           74|            0|      0|  38|                   0.537| 34|      1|\n",
      "|         10|    139|           80|            0|      0|27.1|                   1.441| 57|      0|\n",
      "|          1|    189|           60|           23|    846|30.1|                   0.398| 59|      1|\n",
      "|          5|    166|           72|           19|    175|25.8|                   0.587| 51|      1|\n",
      "|          7|    100|            0|            0|      0|  30|                   0.484| 32|      1|\n",
      "|          0|    118|           84|           47|    230|45.8|                   0.551| 31|      1|\n",
      "|          7|    107|           74|            0|      0|29.6|                   0.254| 31|      1|\n",
      "|          1|    103|           30|           38|     83|43.3|                   0.183| 33|      0|\n",
      "|          1|    115|           70|           30|     96|34.6|                   0.529| 32|      1|\n",
      "+-----------+-------+-------------+-------------+-------+----+------------------------+---+-------+\n",
      "only showing top 20 rows\n",
      "\n"
     ]
    }
   ],
   "source": [
    "my_data.show()"
   ]
  },
  {
   "cell_type": "code",
   "execution_count": 12,
   "metadata": {
    "colab": {
     "base_uri": "https://localhost:8080/",
     "height": 0
    },
    "id": "F492km4i0-R4",
    "outputId": "0a7d83cc-f5e9-4bb7-ae64-e3eab45a077d"
   },
   "outputs": [
    {
     "name": "stdout",
     "output_type": "stream",
     "text": [
      "root\n",
      " |-- Pregnancies: string (nullable = true)\n",
      " |-- Glucose: string (nullable = true)\n",
      " |-- BloodPressure: string (nullable = true)\n",
      " |-- SkinThickness: string (nullable = true)\n",
      " |-- Insulin: string (nullable = true)\n",
      " |-- BMI: string (nullable = true)\n",
      " |-- DiabetesPedigreeFunction: string (nullable = true)\n",
      " |-- Age: string (nullable = true)\n",
      " |-- Outcome: string (nullable = true)\n",
      "\n"
     ]
    }
   ],
   "source": [
    "#see the schema\n",
    "my_data.printSchema()"
   ]
  },
  {
   "cell_type": "code",
   "execution_count": 15,
   "metadata": {
    "id": "E1wFnZYl1QBe"
   },
   "outputs": [],
   "source": [
    "#define schema\n",
    "my_schema=tp.StructType(\n",
    "    [\n",
    "        tp.StructField('Pregnancies',tp.IntegerType(),True),\n",
    "        tp.StructField('Glucose',tp.IntegerType(),True),\n",
    "        tp.StructField('BloodPressure',tp.IntegerType(),True),\n",
    "        tp.StructField('SkinThickness',tp.IntegerType(),True),\n",
    "        tp.StructField('Insulin',tp.IntegerType(),True),\n",
    "        tp.StructField('BMI',tp.FloatType(),True),\n",
    "        tp.StructField('DiabetesPedigreeFunction',tp.FloatType(),True),\n",
    "        tp.StructField('Age',tp.IntegerType(),True),\n",
    "        tp.StructField('Outcome',tp.IntegerType(),True)\n",
    "    ]\n",
    ")"
   ]
  },
  {
   "cell_type": "code",
   "execution_count": 17,
   "metadata": {
    "colab": {
     "base_uri": "https://localhost:8080/",
     "height": 0
    },
    "id": "QaT2ZsgM4Vdh",
    "outputId": "a2101f84-520b-4c1e-aff5-3da9916df1ac"
   },
   "outputs": [
    {
     "name": "stdout",
     "output_type": "stream",
     "text": [
      "root\n",
      " |-- Pregnancies: integer (nullable = true)\n",
      " |-- Glucose: integer (nullable = true)\n",
      " |-- BloodPressure: integer (nullable = true)\n",
      " |-- SkinThickness: integer (nullable = true)\n",
      " |-- Insulin: integer (nullable = true)\n",
      " |-- BMI: float (nullable = true)\n",
      " |-- DiabetesPedigreeFunction: float (nullable = true)\n",
      " |-- Age: integer (nullable = true)\n",
      " |-- Outcome: integer (nullable = true)\n",
      "\n"
     ]
    }
   ],
   "source": [
    "my_data=spark.read.csv('/content/drive/MyDrive/diabetes.csv',header=True,schema=my_schema)\n",
    "my_data.printSchema()"
   ]
  },
  {
   "cell_type": "code",
   "execution_count": 18,
   "metadata": {
    "colab": {
     "base_uri": "https://localhost:8080/",
     "height": 0
    },
    "id": "SB2NlfI-4kC3",
    "outputId": "7984ea2e-674d-4529-da98-60a80b0a1127"
   },
   "outputs": [
    {
     "data": {
      "text/plain": [
       "(768, 9)"
      ]
     },
     "execution_count": 18,
     "metadata": {},
     "output_type": "execute_result"
    }
   ],
   "source": [
    "#get dimension of data\n",
    "(my_data.count(),len(my_data.columns))"
   ]
  },
  {
   "cell_type": "code",
   "execution_count": 19,
   "metadata": {
    "colab": {
     "base_uri": "https://localhost:8080/",
     "height": 0
    },
    "id": "7dUQoYWm4pJ8",
    "outputId": "7c603175-f6c5-40fc-a952-dedacdb81fe5"
   },
   "outputs": [
    {
     "data": {
      "text/plain": [
       "Row(Pregnancies=6, Glucose=148, BloodPressure=72, SkinThickness=35, Insulin=0, BMI=33.599998474121094, DiabetesPedigreeFunction=0.6269999742507935, Age=50, Outcome=1)"
      ]
     },
     "execution_count": 19,
     "metadata": {},
     "output_type": "execute_result"
    }
   ],
   "source": [
    "my_data.head()"
   ]
  },
  {
   "cell_type": "code",
   "execution_count": 20,
   "metadata": {
    "colab": {
     "base_uri": "https://localhost:8080/",
     "height": 0
    },
    "id": "6UHRAX1M4ymG",
    "outputId": "c0281b1e-5fb7-43be-ad0a-a8f2a1fdeec8"
   },
   "outputs": [
    {
     "name": "stdout",
     "output_type": "stream",
     "text": [
      "+-----------+-------+-------------+-------------+-------+----+------------------------+---+-------+\n",
      "|Pregnancies|Glucose|BloodPressure|SkinThickness|Insulin| BMI|DiabetesPedigreeFunction|Age|Outcome|\n",
      "+-----------+-------+-------------+-------------+-------+----+------------------------+---+-------+\n",
      "|          6|    148|           72|           35|   NULL|33.6|                   0.627| 50|      1|\n",
      "|          1|     85|           66|           29|   NULL|26.6|                   0.351| 31|      0|\n",
      "|          8|    183|           64|         NULL|   NULL|23.3|                   0.672| 32|      1|\n",
      "|          1|     89|           66|           23|     94|28.1|                   0.167| 21|      0|\n",
      "|          0|    137|           40|           35|    168|43.1|                   2.288| 33|      1|\n",
      "|          5|    116|           74|         NULL|   NULL|25.6|                   0.201| 30|      0|\n",
      "|          3|     78|           50|           32|     88|31.0|                   0.248| 26|      1|\n",
      "|         10|    115|         NULL|         NULL|   NULL|35.3|                   0.134| 29|      0|\n",
      "|          2|    197|           70|           45|    543|30.5|                   0.158| 53|      1|\n",
      "|          8|    125|           96|         NULL|   NULL|NULL|                   0.232| 54|      1|\n",
      "|          4|    110|           92|         NULL|   NULL|37.6|                   0.191| 30|      0|\n",
      "|         10|    168|           74|         NULL|   NULL|38.0|                   0.537| 34|      1|\n",
      "|         10|    139|           80|         NULL|   NULL|27.1|                   1.441| 57|      0|\n",
      "|          1|    189|           60|           23|    846|30.1|                   0.398| 59|      1|\n",
      "|          5|    166|           72|           19|    175|25.8|                   0.587| 51|      1|\n",
      "|          7|    100|         NULL|         NULL|   NULL|30.0|                   0.484| 32|      1|\n",
      "|          0|    118|           84|           47|    230|45.8|                   0.551| 31|      1|\n",
      "|          7|    107|           74|         NULL|   NULL|29.6|                   0.254| 31|      1|\n",
      "|          1|    103|           30|           38|     83|43.3|                   0.183| 33|      0|\n",
      "|          1|    115|           70|           30|     96|34.6|                   0.529| 32|      1|\n",
      "+-----------+-------+-------------+-------------+-------+----+------------------------+---+-------+\n",
      "only showing top 20 rows\n",
      "\n"
     ]
    }
   ],
   "source": [
    "#Replace zero with null for filling missing values\n",
    "from pyspark.sql.functions import when, col\n",
    "\n",
    "def replace_zero_with_null(df):\n",
    "    for i, column_name in enumerate(df.columns):\n",
    "        # Skip first and last column\n",
    "        if i == 0 or i == len(df.columns) - 1:\n",
    "            continue\n",
    "        df = df.withColumn(column_name, when(col(column_name) == 0, None).otherwise(col(column_name)))\n",
    "    return df\n",
    "\n",
    "my_data = replace_zero_with_null(my_data)\n",
    "my_data.show()"
   ]
  },
  {
   "cell_type": "code",
   "execution_count": 21,
   "metadata": {
    "id": "AFJlXsjC5Azl"
   },
   "outputs": [],
   "source": [
    "#impute values in null place in\n",
    "imputer = Imputer(\n",
    "    inputCols=my_data.columns,\n",
    "    outputCols=my_data.columns\n",
    "    ).setStrategy(\"median\")\n",
    "\n",
    "\n",
    "my_data1 = imputer.fit(my_data).transform(my_data)"
   ]
  },
  {
   "cell_type": "code",
   "execution_count": 22,
   "metadata": {
    "colab": {
     "base_uri": "https://localhost:8080/",
     "height": 0
    },
    "id": "_xiW-9L-5EF9",
    "outputId": "65ddf49d-ad80-4ebd-c7ef-260da91d5951"
   },
   "outputs": [
    {
     "name": "stdout",
     "output_type": "stream",
     "text": [
      "+-----------+-------+-------------+-------------+-------+----+------------------------+---+-------+\n",
      "|Pregnancies|Glucose|BloodPressure|SkinThickness|Insulin| BMI|DiabetesPedigreeFunction|Age|Outcome|\n",
      "+-----------+-------+-------------+-------------+-------+----+------------------------+---+-------+\n",
      "|          6|    148|           72|           35|    125|33.6|                   0.627| 50|      1|\n",
      "|          1|     85|           66|           29|    125|26.6|                   0.351| 31|      0|\n",
      "|          8|    183|           64|           29|    125|23.3|                   0.672| 32|      1|\n",
      "|          1|     89|           66|           23|     94|28.1|                   0.167| 21|      0|\n",
      "|          0|    137|           40|           35|    168|43.1|                   2.288| 33|      1|\n",
      "|          5|    116|           74|           29|    125|25.6|                   0.201| 30|      0|\n",
      "|          3|     78|           50|           32|     88|31.0|                   0.248| 26|      1|\n",
      "|         10|    115|           72|           29|    125|35.3|                   0.134| 29|      0|\n",
      "|          2|    197|           70|           45|    543|30.5|                   0.158| 53|      1|\n",
      "|          8|    125|           96|           29|    125|32.3|                   0.232| 54|      1|\n",
      "|          4|    110|           92|           29|    125|37.6|                   0.191| 30|      0|\n",
      "|         10|    168|           74|           29|    125|38.0|                   0.537| 34|      1|\n",
      "|         10|    139|           80|           29|    125|27.1|                   1.441| 57|      0|\n",
      "|          1|    189|           60|           23|    846|30.1|                   0.398| 59|      1|\n",
      "|          5|    166|           72|           19|    175|25.8|                   0.587| 51|      1|\n",
      "|          7|    100|           72|           29|    125|30.0|                   0.484| 32|      1|\n",
      "|          0|    118|           84|           47|    230|45.8|                   0.551| 31|      1|\n",
      "|          7|    107|           74|           29|    125|29.6|                   0.254| 31|      1|\n",
      "|          1|    103|           30|           38|     83|43.3|                   0.183| 33|      0|\n",
      "|          1|    115|           70|           30|     96|34.6|                   0.529| 32|      1|\n",
      "+-----------+-------+-------------+-------------+-------+----+------------------------+---+-------+\n",
      "only showing top 20 rows\n",
      "\n"
     ]
    }
   ],
   "source": [
    "my_data1.show()"
   ]
  },
  {
   "cell_type": "code",
   "execution_count": 23,
   "metadata": {
    "colab": {
     "base_uri": "https://localhost:8080/",
     "height": 0
    },
    "id": "fZnXuw5Y5JPf",
    "outputId": "99504f1c-2b82-48bc-d282-a99065063189"
   },
   "outputs": [
    {
     "name": "stdout",
     "output_type": "stream",
     "text": [
      "+--------------------+-------+\n",
      "|            features|Outcome|\n",
      "+--------------------+-------+\n",
      "|[6.0,148.0,72.0,3...|      1|\n",
      "|[1.0,85.0,66.0,29...|      0|\n",
      "|[8.0,183.0,64.0,2...|      1|\n",
      "|[1.0,89.0,66.0,23...|      0|\n",
      "|[0.0,137.0,40.0,3...|      1|\n",
      "|[5.0,116.0,74.0,2...|      0|\n",
      "|[3.0,78.0,50.0,32...|      1|\n",
      "|[10.0,115.0,72.0,...|      0|\n",
      "|[2.0,197.0,70.0,4...|      1|\n",
      "|[8.0,125.0,96.0,2...|      1|\n",
      "|[4.0,110.0,92.0,2...|      0|\n",
      "|[10.0,168.0,74.0,...|      1|\n",
      "|[10.0,139.0,80.0,...|      0|\n",
      "|[1.0,189.0,60.0,2...|      1|\n",
      "|[5.0,166.0,72.0,1...|      1|\n",
      "|[7.0,100.0,72.0,2...|      1|\n",
      "|[0.0,118.0,84.0,4...|      1|\n",
      "|[7.0,107.0,74.0,2...|      1|\n",
      "|[1.0,103.0,30.0,3...|      0|\n",
      "|[1.0,115.0,70.0,3...|      1|\n",
      "+--------------------+-------+\n",
      "only showing top 20 rows\n",
      "\n"
     ]
    }
   ],
   "source": [
    "# specify the input and output columns of the vector assembler\n",
    "assembler = VectorAssembler(inputCols=['Pregnancies',\n",
    "                                       'Glucose',\n",
    "                                       'BloodPressure',\n",
    "                                       'SkinThickness',\n",
    "                                       'Insulin', 'BMI',\n",
    "                                       'DiabetesPedigreeFunction',\n",
    "                                       'Age'],\n",
    "                             outputCol='features')\n",
    "\n",
    "final_data = assembler.transform(my_data1)\n",
    "final_data.select('features', 'Outcome').show()"
   ]
  },
  {
   "cell_type": "code",
   "execution_count": 24,
   "metadata": {
    "id": "EXvjfEVP5NE_"
   },
   "outputs": [],
   "source": [
    "#split data for test and train\n",
    "train_data,test_data=final_data.randomSplit([0.8,0.2])"
   ]
  },
  {
   "cell_type": "code",
   "execution_count": 25,
   "metadata": {
    "id": "iaOpkJH15PNu"
   },
   "outputs": [],
   "source": [
    "#train the model\n",
    "lr=LogisticRegression(featuresCol='features',labelCol='Outcome', maxIter=10)\n",
    "model=lr.fit(train_data)"
   ]
  },
  {
   "cell_type": "code",
   "execution_count": 26,
   "metadata": {
    "colab": {
     "base_uri": "https://localhost:8080/",
     "height": 0
    },
    "id": "KdNMc0Gl5RR_",
    "outputId": "198327bb-2b27-435d-cdcb-1fd97be4acaf"
   },
   "outputs": [
    {
     "name": "stdout",
     "output_type": "stream",
     "text": [
      "+-----------+-------+-------------+-------------+-------+----+------------------------+---+-------+--------------------+--------------------+--------------------+----------+\n",
      "|Pregnancies|Glucose|BloodPressure|SkinThickness|Insulin| BMI|DiabetesPedigreeFunction|Age|Outcome|            features|       rawPrediction|         probability|prediction|\n",
      "+-----------+-------+-------------+-------------+-------+----+------------------------+---+-------+--------------------+--------------------+--------------------+----------+\n",
      "|          0|     74|           52|           10|     36|27.8|                   0.269| 22|      0|[0.0,74.0,52.0,10...|[3.71020642670902...|[0.97611212436466...|       0.0|\n",
      "|          0|     94|           72|           29|    125|32.3|                   0.256| 25|      0|[0.0,94.0,72.0,29...|[2.71351187598598...|[0.93781925636153...|       0.0|\n",
      "|          0|     99|           72|           29|    125|25.0|                   0.253| 22|      0|[0.0,99.0,72.0,29...|[3.22011512284348...|[0.96158426735813...|       0.0|\n",
      "|          0|    100|           70|           26|     50|30.8|                   0.597| 21|      0|[0.0,100.0,70.0,2...|[2.22763041168432...|[0.90270343671437...|       0.0|\n",
      "|          0|    102|           64|           46|     78|40.6|                   0.496| 21|      0|[0.0,102.0,64.0,4...|[1.13499355477916...|[0.75675926421981...|       0.0|\n",
      "+-----------+-------+-------------+-------------+-------+----+------------------------+---+-------+--------------------+--------------------+--------------------+----------+\n",
      "only showing top 5 rows\n",
      "\n"
     ]
    }
   ],
   "source": [
    "#test model\n",
    "prediction=model.transform(test_data)\n",
    "prediction.show(5)"
   ]
  },
  {
   "cell_type": "code",
   "execution_count": null,
   "metadata": {
    "id": "_bZL-dE05VlL"
   },
   "outputs": [],
   "source": [
    "#create a pipeline\n",
    "from pyspark.ml import Pipeline\n",
    "pipeline = Pipeline(stages=[replace_zero_with_null,imputer, assembler, lr])\n",
    "pipeline_model = pipeline.fit(my_data1)\n",
    "pred = pipeline_model.transform(my_data1)\n",
    "pred.show(5)"
   ]
  },
  {
   "cell_type": "code",
   "execution_count": 28,
   "metadata": {
    "colab": {
     "base_uri": "https://localhost:8080/",
     "height": 0
    },
    "id": "zUE-7Q3b5tx8",
    "outputId": "e872ce4f-4df7-4a1a-aa10-79a6eab33f21"
   },
   "outputs": [
    {
     "name": "stdout",
     "output_type": "stream",
     "text": [
      "+-----------+-------+-------------+-------------+-------+----+------------------------+---+-------+\n",
      "|Pregnancies|Glucose|BloodPressure|SkinThickness|Insulin| BMI|DiabetesPedigreeFunction|Age|Outcome|\n",
      "+-----------+-------+-------------+-------------+-------+----+------------------------+---+-------+\n",
      "|          1|    166|           72|           15|     17|33.6|                   0.627| 50|      0|\n",
      "+-----------+-------+-------------+-------------+-------+----+------------------------+---+-------+\n",
      "\n"
     ]
    }
   ],
   "source": [
    "#create new data for prediction with outcome column\n",
    "Pregnancies=1\n",
    "Glucose=166\n",
    "BloodPressure=72\n",
    "SkinThickness=15\n",
    "Insulin=17\n",
    "BMI=33.6\n",
    "DiabetesPedigreeFunction=0.627\n",
    "Age=50\n",
    "# Add a placeholder value for 'Outcome' (you'll need to determine the appropriate value based on your problem)\n",
    "Outcome = 0\n",
    "new_data=spark.createDataFrame([(Pregnancies,Glucose,BloodPressure,SkinThickness,Insulin,BMI,DiabetesPedigreeFunction,Age, Outcome)],\n",
    "                               ['Pregnancies','Glucose','BloodPressure','SkinThickness','Insulin','BMI','DiabetesPedigreeFunction','Age', 'Outcome'])\n",
    "new_data.show()"
   ]
  },
  {
   "cell_type": "code",
   "execution_count": null,
   "metadata": {
    "id": "1kAbFTBi50yj"
   },
   "outputs": [],
   "source": [
    "#predicte new data through pipline\n",
    "pipeline_model.transform(new_data).show()"
   ]
  },
  {
   "cell_type": "markdown",
   "metadata": {
    "id": "jUjzw1ME75Xu"
   },
   "source": [
    "# **Practical 03 : Construct K-shingles**"
   ]
  },
  {
   "cell_type": "code",
   "execution_count": 35,
   "metadata": {
    "colab": {
     "base_uri": "https://localhost:8080/",
     "height": 0
    },
    "id": "YDzJFC2u742c",
    "outputId": "0354611d-adce-4eb3-889a-ac4776775ebd"
   },
   "outputs": [
    {
     "name": "stdout",
     "output_type": "stream",
     "text": [
      "Shingles                                 txt1       txt2       txt3      \n",
      "----------------------------------------------------------------------\n",
      "what is machine learning                 1          0          0         \n",
      "is machine learning its                  1          0          0         \n",
      "machine learning its a                   1          0          0         \n",
      "learning its a question                  1          0          0         \n",
      "its a question that                      1          0          0         \n",
      "a question that opens                    1          0          0         \n",
      "question that opens the                  1          0          0         \n",
      "that opens the door                      1          0          0         \n",
      "opens the door to                        1          0          0         \n",
      "the door to a                            1          0          0         \n",
      "door to a new                            1          0          0         \n",
      "to a new era                             1          0          0         \n",
      "a new era of                             1          0          0         \n",
      "new era of technologyone                 1          0          0         \n",
      "era of technologyone where               1          0          0         \n",
      "of technologyone where computers         1          0          0         \n",
      "technologyone where computers can        1          0          0         \n",
      "where computers can learn                1          0          0         \n",
      "computers can learn and                  1          0          0         \n",
      "can learn and improve                    1          0          0         \n",
      "learn and improve on                     1          0          0         \n",
      "and improve on their                     1          0          0         \n",
      "improve on their own                     1          0          0         \n",
      "on their own much                        1          0          0         \n",
      "their own much like                      1          0          0         \n",
      "own much like humans                     1          0          0         \n",
      "much like humans imagine                 1          0          0         \n",
      "like humans imagine a                    1          0          0         \n",
      "humans imagine a world                   1          0          0         \n",
      "imagine a world where                    1          0          0         \n",
      "a world where computers                  1          0          0         \n",
      "world where computers dont               1          0          0         \n",
      "where computers dont just                1          0          0         \n",
      "computers dont just follow               1          0          0         \n",
      "dont just follow strict                  1          0          0         \n",
      "just follow strict rules                 1          0          0         \n",
      "follow strict rules but                  1          0          0         \n",
      "strict rules but can                     1          0          0         \n",
      "rules but can learn                      1          0          0         \n",
      "but can learn from                       1          0          0         \n",
      "can learn from data                      1          0          1         \n",
      "learn from data and                      1          0          1         \n",
      "from data and experiences                1          0          0         \n",
      "data and experiences this                1          0          0         \n",
      "and experiences this is                  1          0          0         \n",
      "experiences this is the                  1          0          0         \n",
      "this is the essence                      1          0          0         \n",
      "is the essence of                        1          0          0         \n",
      "the essence of machine                   1          0          0         \n",
      "essence of machine learning              1          0          0         \n",
      "of machine learning from                 1          0          0         \n",
      "machine learning from suggesting         1          0          0         \n",
      "learning from suggesting new             1          0          0         \n",
      "from suggesting new shows                1          0          0         \n",
      "suggesting new shows on                  1          0          0         \n",
      "new shows on streaming                   1          0          0         \n",
      "shows on streaming services              1          0          0         \n",
      "on streaming services based              1          0          0         \n",
      "streaming services based on              1          0          0         \n",
      "services based on your                   1          0          0         \n",
      "based on your viewing                    1          0          0         \n",
      "on your viewing history                  1          0          0         \n",
      "your viewing history to                  1          0          0         \n",
      "viewing history to enabling              1          0          0         \n",
      "history to enabling selfdriving          1          0          0         \n",
      "to enabling selfdriving cars             1          0          0         \n",
      "enabling selfdriving cars to             1          0          0         \n",
      "selfdriving cars to navigate             1          0          0         \n",
      "cars to navigate safely                  1          0          0         \n",
      "to navigate safely machine               1          0          0         \n",
      "navigate safely machine learning         1          0          0         \n",
      "safely machine learning is               1          0          0         \n",
      "machine learning is behind               1          0          0         \n",
      "learning is behind these                 1          0          0         \n",
      "is behind these advancements             1          0          0         \n",
      "behind these advancements its            1          0          0         \n",
      "these advancements its not               1          0          0         \n",
      "advancements its not just                1          0          0         \n",
      "its not just about                       1          0          0         \n",
      "not just about technology                1          0          0         \n",
      "just about technology its                1          0          0         \n",
      "about technology its about               1          0          0         \n",
      "technology its about reshaping           1          0          0         \n",
      "its about reshaping how                  1          0          0         \n",
      "about reshaping how computers            1          0          0         \n",
      "reshaping how computers interact         1          0          0         \n",
      "how computers interact with              1          0          0         \n",
      "computers interact with us               1          0          0         \n",
      "interact with us and                     1          0          0         \n",
      "with us and understand                   1          0          0         \n",
      "us and understand the                    1          0          0         \n",
      "and understand the world                 1          0          0         \n",
      "understand the world around              1          0          0         \n",
      "the world around them                    1          0          0         \n",
      "world around them as                     1          0          0         \n",
      "around them as artificial                1          0          0         \n",
      "them as artificial intelligence          1          0          0         \n",
      "as artificial intelligence continues     1          0          0         \n",
      "artificial intelligence continues to     1          0          0         \n",
      "intelligence continues to evolve         1          0          0         \n",
      "continues to evolve machine              1          0          0         \n",
      "to evolve machine learning               1          0          0         \n",
      "evolve machine learning remains          1          0          0         \n",
      "machine learning remains at              1          0          0         \n",
      "learning remains at its                  1          0          0         \n",
      "remains at its core                      1          0          0         \n",
      "at its core revolutionizing              1          0          0         \n",
      "its core revolutionizing our             1          0          0         \n",
      "core revolutionizing our relationship    1          0          0         \n",
      "revolutionizing our relationship with    1          0          0         \n",
      "our relationship with technology         1          0          0         \n",
      "relationship with technology and         1          0          0         \n",
      "with technology and paving               1          0          0         \n",
      "technology and paving the                1          0          0         \n",
      "and paving the way                       1          0          0         \n",
      "paving the way for                       1          0          0         \n",
      "the way for a                            1          0          0         \n",
      "way for a more                           1          0          0         \n",
      "for a more connected                     1          0          0         \n",
      "a more connected future                  1          0          0         \n",
      "machine learning ml is                   0          1          1         \n",
      "learning ml is a                         0          1          1         \n",
      "ml is a type                             0          1          0         \n",
      "is a type of                             0          1          0         \n",
      "a type of artificial                     0          1          0         \n",
      "type of artificial intelligence          0          1          0         \n",
      "of artificial intelligence ai            0          1          0         \n",
      "artificial intelligence ai focused       0          1          0         \n",
      "intelligence ai focused on               0          1          0         \n",
      "ai focused on building                   0          1          0         \n",
      "focused on building computer             0          1          0         \n",
      "on building computer systems             0          1          0         \n",
      "building computer systems that           0          1          0         \n",
      "computer systems that learn              0          1          0         \n",
      "systems that learn from                  0          1          0         \n",
      "that learn from data                     0          1          0         \n",
      "learn from data the                      0          1          0         \n",
      "from data the broad                      0          1          0         \n",
      "data the broad range                     0          1          0         \n",
      "the broad range of                       0          1          0         \n",
      "broad range of techniques                0          1          0         \n",
      "range of techniques ml                   0          1          0         \n",
      "of techniques ml encompasses             0          1          0         \n",
      "techniques ml encompasses enables        0          1          0         \n",
      "ml encompasses enables software          0          1          0         \n",
      "encompasses enables software applications 0          1          0         \n",
      "enables software applications to         0          1          0         \n",
      "software applications to improve         0          1          0         \n",
      "applications to improve their            0          1          0         \n",
      "to improve their performance             0          1          0         \n",
      "improve their performance over           0          1          0         \n",
      "their performance over time              0          1          0         \n",
      "performance over time machine            0          1          0         \n",
      "over time machine learning               0          1          0         \n",
      "time machine learning algorithms         0          1          0         \n",
      "machine learning algorithms are          0          1          0         \n",
      "learning algorithms are trained          0          1          0         \n",
      "algorithms are trained to                0          1          0         \n",
      "are trained to find                      0          1          0         \n",
      "trained to find relationships            0          1          0         \n",
      "to find relationships and                0          1          0         \n",
      "find relationships and patterns          0          1          0         \n",
      "relationships and patterns in            0          1          0         \n",
      "and patterns in data                     0          1          0         \n",
      "patterns in data they                    0          1          0         \n",
      "in data they use                         0          1          0         \n",
      "data they use historical                 0          1          0         \n",
      "they use historical data                 0          1          0         \n",
      "use historical data as                   0          1          0         \n",
      "historical data as input                 0          1          0         \n",
      "data as input to                         0          1          0         \n",
      "as input to make                         0          1          0         \n",
      "input to make predictions                0          1          0         \n",
      "to make predictions classify             0          1          0         \n",
      "make predictions classify information    0          1          0         \n",
      "predictions classify information cluster 0          1          0         \n",
      "classify information cluster data        0          1          0         \n",
      "information cluster data points          0          1          0         \n",
      "cluster data points reduce               0          1          0         \n",
      "data points reduce dimensionality        0          1          0         \n",
      "points reduce dimensionality and         0          1          0         \n",
      "reduce dimensionality and even           0          1          0         \n",
      "dimensionality and even help             0          1          0         \n",
      "and even help generate                   0          1          0         \n",
      "even help generate new                   0          1          0         \n",
      "help generate new content                0          1          0         \n",
      "generate new content as                  0          1          0         \n",
      "new content as demonstrated              0          1          0         \n",
      "content as demonstrated by               0          1          0         \n",
      "as demonstrated by new                   0          1          0         \n",
      "demonstrated by new mlfueled             0          1          0         \n",
      "by new mlfueled applications             0          1          0         \n",
      "new mlfueled applications such           0          1          0         \n",
      "mlfueled applications such as            0          1          0         \n",
      "applications such as chatgpt             0          1          0         \n",
      "such as chatgpt dalle                    0          1          0         \n",
      "as chatgpt dalle 2                       0          1          0         \n",
      "chatgpt dalle 2 and                      0          1          0         \n",
      "dalle 2 and github                       0          1          0         \n",
      "2 and github copilot                     0          1          0         \n",
      "and github copilot machine               0          1          0         \n",
      "github copilot machine learning          0          1          0         \n",
      "copilot machine learning is              0          1          0         \n",
      "machine learning is widely               0          1          0         \n",
      "learning is widely applicable            0          1          0         \n",
      "is widely applicable across              0          1          0         \n",
      "widely applicable across many            0          1          0         \n",
      "applicable across many industries        0          1          0         \n",
      "across many industries recommendation    0          1          0         \n",
      "many industries recommendation engines   0          1          0         \n",
      "industries recommendation engines for    0          1          0         \n",
      "recommendation engines for example       0          1          0         \n",
      "engines for example are                  0          1          0         \n",
      "for example are used                     0          1          0         \n",
      "example are used by                      0          1          0         \n",
      "are used by ecommerce                    0          1          0         \n",
      "used by ecommerce social                 0          1          0         \n",
      "by ecommerce social media                0          1          0         \n",
      "ecommerce social media and               0          1          0         \n",
      "social media and news                    0          1          0         \n",
      "media and news organizations             0          1          0         \n",
      "and news organizations to                0          1          0         \n",
      "news organizations to suggest            0          1          0         \n",
      "organizations to suggest content         0          1          0         \n",
      "to suggest content based                 0          1          0         \n",
      "suggest content based on                 0          1          0         \n",
      "content based on a                       0          1          0         \n",
      "based on a customers                     0          1          0         \n",
      "on a customers past                      0          1          0         \n",
      "a customers past behavior                0          1          0         \n",
      "customers past behavior machine          0          1          0         \n",
      "past behavior machine learning           0          1          0         \n",
      "behavior machine learning algorithms     0          1          0         \n",
      "machine learning algorithms and          0          1          0         \n",
      "learning algorithms and machine          0          1          0         \n",
      "algorithms and machine vision            0          1          0         \n",
      "and machine vision are                   0          1          0         \n",
      "machine vision are a                     0          1          0         \n",
      "vision are a critical                    0          1          0         \n",
      "are a critical component                 0          1          0         \n",
      "a critical component of                  0          1          0         \n",
      "critical component of selfdriving        0          1          0         \n",
      "component of selfdriving cars            0          1          0         \n",
      "of selfdriving cars helping              0          1          0         \n",
      "selfdriving cars helping them            0          1          0         \n",
      "cars helping them navigate               0          1          0         \n",
      "helping them navigate the                0          1          0         \n",
      "them navigate the roads                  0          1          0         \n",
      "navigate the roads safely                0          1          0         \n",
      "the roads safely in                      0          1          0         \n",
      "roads safely in healthcare               0          1          0         \n",
      "safely in healthcare machine             0          1          0         \n",
      "in healthcare machine learning           0          1          0         \n",
      "healthcare machine learning is           0          1          0         \n",
      "machine learning is used                 0          1          0         \n",
      "learning is used to                      0          1          0         \n",
      "is used to diagnose                      0          1          0         \n",
      "used to diagnose and                     0          1          0         \n",
      "to diagnose and suggest                  0          1          0         \n",
      "diagnose and suggest treatment           0          1          0         \n",
      "and suggest treatment plans              0          1          0         \n",
      "suggest treatment plans other            0          1          0         \n",
      "treatment plans other common             0          1          0         \n",
      "plans other common ml                    0          1          0         \n",
      "other common ml use                      0          1          0         \n",
      "common ml use cases                      0          1          0         \n",
      "ml use cases include                     0          1          0         \n",
      "use cases include fraud                  0          1          0         \n",
      "cases include fraud detection            0          1          0         \n",
      "include fraud detection spam             0          1          0         \n",
      "fraud detection spam filtering           0          1          0         \n",
      "detection spam filtering malware         0          1          0         \n",
      "spam filtering malware threat            0          1          0         \n",
      "filtering malware threat detection       0          1          0         \n",
      "malware threat detection predictive      0          1          0         \n",
      "threat detection predictive maintenance  0          1          0         \n",
      "detection predictive maintenance and     0          1          0         \n",
      "predictive maintenance and business      0          1          0         \n",
      "maintenance and business process         0          1          0         \n",
      "and business process automation          0          1          0         \n",
      "ml is a field                            0          0          1         \n",
      "is a field of                            0          0          1         \n",
      "a field of study                         0          0          1         \n",
      "field of study in                        0          0          1         \n",
      "of study in artificial                   0          0          1         \n",
      "study in artificial intelligence         0          0          1         \n",
      "in artificial intelligence concerned     0          0          1         \n",
      "artificial intelligence concerned with   0          0          1         \n",
      "intelligence concerned with the          0          0          1         \n",
      "concerned with the development           0          0          1         \n",
      "with the development and                 0          0          1         \n",
      "the development and study                0          0          1         \n",
      "development and study of                 0          0          1         \n",
      "and study of statistical                 0          0          1         \n",
      "study of statistical algorithms          0          0          1         \n",
      "of statistical algorithms that           0          0          1         \n",
      "statistical algorithms that can          0          0          1         \n",
      "algorithms that can learn                0          0          1         \n",
      "that can learn from                      0          0          1         \n",
      "from data and generalize                 0          0          1         \n",
      "data and generalize to                   0          0          1         \n",
      "and generalize to unseen                 0          0          1         \n",
      "generalize to unseen data                0          0          1         \n",
      "to unseen data and                       0          0          1         \n",
      "unseen data and thus                     0          0          1         \n",
      "data and thus perform                    0          0          1         \n",
      "and thus perform tasks                   0          0          1         \n",
      "thus perform tasks without               0          0          1         \n",
      "perform tasks without explicit           0          0          1         \n",
      "tasks without explicit instructions1     0          0          1         \n",
      "without explicit instructions1 recently  0          0          1         \n",
      "explicit instructions1 recently artificial 0          0          1         \n",
      "instructions1 recently artificial neural 0          0          1         \n",
      "recently artificial neural networks      0          0          1         \n",
      "artificial neural networks have          0          0          1         \n",
      "neural networks have been                0          0          1         \n",
      "networks have been able                  0          0          1         \n",
      "have been able to                        0          0          1         \n",
      "been able to surpass                     0          0          1         \n",
      "able to surpass many                     0          0          1         \n",
      "to surpass many previous                 0          0          1         \n",
      "surpass many previous approaches         0          0          1         \n",
      "many previous approaches in              0          0          1         \n",
      "previous approaches in performance2      0          0          1         \n",
      "approaches in performance2 ml            0          0          1         \n",
      "in performance2 ml finds                 0          0          1         \n",
      "performance2 ml finds application        0          0          1         \n",
      "ml finds application in                  0          0          1         \n",
      "finds application in many                0          0          1         \n",
      "application in many fields               0          0          1         \n",
      "in many fields including                 0          0          1         \n",
      "many fields including natural            0          0          1         \n",
      "fields including natural language        0          0          1         \n",
      "including natural language processing    0          0          1         \n",
      "natural language processing computer     0          0          1         \n",
      "language processing computer vision      0          0          1         \n",
      "processing computer vision speech        0          0          1         \n",
      "computer vision speech recognition       0          0          1         \n",
      "vision speech recognition email          0          0          1         \n",
      "speech recognition email filtering       0          0          1         \n",
      "recognition email filtering agriculture  0          0          1         \n",
      "email filtering agriculture and          0          0          1         \n",
      "filtering agriculture and medicine34     0          0          1         \n",
      "agriculture and medicine34 when          0          0          1         \n",
      "and medicine34 when applied              0          0          1         \n",
      "medicine34 when applied to               0          0          1         \n",
      "when applied to business                 0          0          1         \n",
      "applied to business problems             0          0          1         \n",
      "to business problems it                  0          0          1         \n",
      "business problems it is                  0          0          1         \n",
      "problems it is known                     0          0          1         \n",
      "it is known under                        0          0          1         \n",
      "is known under the                       0          0          1         \n",
      "known under the name                     0          0          1         \n",
      "under the name predictive                0          0          1         \n",
      "the name predictive analytics            0          0          1         \n",
      "name predictive analytics although       0          0          1         \n",
      "predictive analytics although not        0          0          1         \n",
      "analytics although not all               0          0          1         \n",
      "although not all machine                 0          0          1         \n",
      "not all machine learning                 0          0          1         \n",
      "all machine learning is                  0          0          1         \n",
      "machine learning is statistically        0          0          1         \n",
      "learning is statistically based          0          0          1         \n",
      "is statistically based computational     0          0          1         \n",
      "statistically based computational statistics 0          0          1         \n",
      "based computational statistics is        0          0          1         \n",
      "computational statistics is an           0          0          1         \n",
      "statistics is an important               0          0          1         \n",
      "is an important source                   0          0          1         \n",
      "an important source of                   0          0          1         \n",
      "important source of the                  0          0          1         \n",
      "source of the fields                     0          0          1         \n",
      "of the fields methods                    0          0          1         \n",
      "the fields methods the                   0          0          1         \n",
      "fields methods the mathematical          0          0          1         \n",
      "methods the mathematical foundations     0          0          1         \n",
      "the mathematical foundations of          0          0          1         \n",
      "mathematical foundations of ml           0          0          1         \n",
      "foundations of ml are                    0          0          1         \n",
      "of ml are provided                       0          0          1         \n",
      "ml are provided by                       0          0          1         \n",
      "are provided by mathematical             0          0          1         \n",
      "provided by mathematical optimization    0          0          1         \n",
      "by mathematical optimization mathematical 0          0          1         \n",
      "mathematical optimization mathematical programming 0          0          1         \n",
      "optimization mathematical programming methods 0          0          1         \n",
      "mathematical programming methods data    0          0          1         \n",
      "programming methods data mining          0          0          1         \n",
      "methods data mining is                   0          0          1         \n",
      "data mining is a                         0          0          1         \n",
      "mining is a related                      0          0          1         \n",
      "is a related parallel                    0          0          1         \n",
      "a related parallel field                 0          0          1         \n",
      "related parallel field of                0          0          1         \n",
      "parallel field of study                  0          0          1         \n",
      "field of study focusing                  0          0          1         \n",
      "of study focusing on                     0          0          1         \n",
      "study focusing on exploratory            0          0          1         \n",
      "focusing on exploratory data             0          0          1         \n",
      "on exploratory data analysis             0          0          1         \n",
      "exploratory data analysis eda            0          0          1         \n",
      "data analysis eda through                0          0          1         \n",
      "analysis eda through unsupervised        0          0          1         \n",
      "eda through unsupervised learning67      0          0          1         \n"
     ]
    }
   ],
   "source": [
    "import re\n",
    "from collections import defaultdict\n",
    "import numpy as np\n",
    "\n",
    "def read_text_file(file_path):\n",
    "    with open(file_path, 'r', encoding='utf-8') as file:\n",
    "        text = file.read().lower() # Read text and convert to lowercase\n",
    "        text = re.sub(r'\\s+', ' ', text) # Replace multiple spaces with single space\n",
    "        text = re.sub(r'[^\\w\\s]', '', text) # Remove punctuation\n",
    "        return text\n",
    "\n",
    "def generate_4_shingles(text):\n",
    "    words = text.split() # Split text into words\n",
    "    shingles = []\n",
    "    seen_shingles = set() # To track seen shingles and maintain order\n",
    "\n",
    "    for i in range(len(words) - 3):\n",
    "        shingle = ' '.join(words[i:i+4]) # Create 4-shingle\n",
    "        if shingle not in seen_shingles:\n",
    "            shingles.append(shingle)\n",
    "            seen_shingles.add(shingle)\n",
    "\n",
    "    return shingles\n",
    "\n",
    "def create_incidence_matrix(file_paths):\n",
    "    shingle_counts = defaultdict(int) # Dictionary to store shingle counts\n",
    "    all_shingles = [] # List to store all shingles in order of appearance\n",
    "\n",
    "    # Step 1: Count shingles and collect all unique shingles in order\n",
    "    for file_path in file_paths:\n",
    "        text = read_text_file(file_path)\n",
    "        shingles = generate_4_shingles(text)\n",
    "\n",
    "        for shingle in shingles:\n",
    "            shingle_counts[shingle] += 1\n",
    "            if shingle not in all_shingles:\n",
    "                all_shingles.append(shingle)\n",
    "\n",
    "    num_files = len(file_paths)\n",
    "    num_shingles = len(all_shingles)\n",
    "\n",
    "    # Step 2: Create incidence matrix\n",
    "    incidence_matrix = np.zeros((num_shingles, num_files), dtype=int)\n",
    "\n",
    "    for j, file_path in enumerate(file_paths):\n",
    "        text = read_text_file(file_path)\n",
    "        shingles = generate_4_shingles(text)\n",
    "\n",
    "        for i, shingle in enumerate(all_shingles):\n",
    "            if shingle in shingles:\n",
    "                incidence_matrix[i, j] = 1\n",
    "\n",
    "    return all_shingles, incidence_matrix\n",
    "\n",
    "def print_incidence_matrix(file_paths):\n",
    "    shingles, incidence_matrix = create_incidence_matrix(file_paths)\n",
    "\n",
    "    # Print header\n",
    "    print(\"{:<40} {:<10} {:<10} {:<10}\".format(\"Shingles\", \"txt1\", \"txt2\", \"txt3\"))\n",
    "    print(\"-\" * 70)\n",
    "\n",
    "    # Print matrix\n",
    "    for idx, shingle in enumerate(shingles):\n",
    "        print(\"{:<40} {:<10} {:<10} {:<10}\".format(shingle, incidence_matrix[idx, 0], incidence_matrix[idx, 1], incidence_matrix[idx, 2]))\n",
    "\n",
    "# Example usage:\n",
    "file_paths = [\"/content/drive/MyDrive/1.txt\", \"/content/drive/MyDrive/2.txt\", \"/content/drive/MyDrive/3.txt\"] # Replace with your file paths\n",
    "\n",
    "print_incidence_matrix(file_paths)"
   ]
  },
  {
   "cell_type": "markdown",
   "metadata": {
    "id": "h7uWYqmm9qek"
   },
   "source": [
    "# **Practical 04 : Min Hashing**"
   ]
  },
  {
   "cell_type": "code",
   "execution_count": 38,
   "metadata": {
    "id": "4iUfrkTI9vRO"
   },
   "outputs": [],
   "source": [
    "# text=input(\"Enter a string: \")\n",
    "# kval =int(input(\"Enter k-value: \"))\n",
    "text=\"hello\"\n",
    "kval=2\n",
    "def shinglewithsepr(text, kval):\n",
    "  shingles = []\n",
    "  tokens = text.split(\" \")\n",
    "  for i in range(0, len(tokens), kval):\n",
    "      shingle = tokens[i:i + kval]\n",
    "      shingles.append(shingle)\n",
    "  #print(\"Shingles using separator: \", shingles)\n",
    "  return shingles\n",
    "def shinglewithoutsepr(text, kval):\n",
    "  shingles = []\n",
    "  for i in range(len(text)-kval+1):\n",
    "      shingle = text[i:i + kval]\n",
    "      shingles.append(shingle)\n",
    "  #print(\"Shingles without using separator: \", shingles)\n",
    "  return shingles\n",
    "wordshingles = shinglewithsepr(text, kval)\n",
    "charshingles = shinglewithoutsepr(text, kval)"
   ]
  },
  {
   "cell_type": "code",
   "execution_count": 39,
   "metadata": {
    "colab": {
     "base_uri": "https://localhost:8080/",
     "height": 0
    },
    "id": "fePbJuTY9zi_",
    "outputId": "b8f72b05-cba0-4b01-a536-535c76d74f7d"
   },
   "outputs": [
    {
     "name": "stdout",
     "output_type": "stream",
     "text": [
      "Shingle 1: ['Tod', 'oda', 'day', 'ay ', 'y i', ' is', 'is ', 's M', ' Mo', 'Mon', 'ond', 'nda', 'day', 'ay.']\n",
      "Shingle 2: ['Tod', 'oda', 'day', 'ay ', 'y i', ' is', 'is ', 's a', ' a ', 'a g', ' go', 'goo', 'ood', 'od ', 'd d', ' da', 'day', 'ay.']\n",
      "Shingle 3: ['Goo', 'ood', 'od ', 'd d', ' da', 'day', 'ay.']\n",
      "Shingle 4: ['Tom', 'omo', 'mor', 'orr', 'rro', 'row', 'ow ', 'w w', ' wi', 'wil', 'ill', 'll ', 'l b', ' be', 'be ', 'e a', ' a ', 'a g', ' go', 'goo', 'ood', 'od ', 'd d', ' da', 'day', 'ay.']\n",
      "All shingles: ['goo', 'Tom', 'omo', ' go', 'll ', 'w w', ' Mo', ' a ', 'ow ', 'mor', 'y i', 'day', 's a', 'l b', 'd d', 'Tod', 'a g', 'ill', 'od ', 'rro', 'row', 'Mon', 'nda', 'Goo', 'oda', 'is ', 'ond', 'ay.', 'orr', ' da', 'be ', ' wi', 'ood', 'wil', 'e a', 's M', ' is', ' be', 'ay ']\n",
      "39\n",
      "   Shingle  doc1  doc2  doc3  doc4  Hash1  Hash2\n",
      "0      goo     0     1     0     1     11     11\n",
      "1      Tom     0     0     0     1     28     18\n",
      "2      omo     0     0     0     1      6     25\n",
      "3       go     0     1     0     1     23     32\n",
      "4      ll      0     0     0     1      1      0\n",
      "5      w w     0     0     0     1     18      7\n",
      "6       Mo     1     0     0     0     35     14\n",
      "7       a      0     1     0     1     13     21\n",
      "8      ow      0     0     0     1     30     28\n",
      "9      mor     0     0     0     1      8     35\n",
      "10     y i     1     1     0     0     25      3\n",
      "11     day     1     1     1     1      3     10\n",
      "12     s a     0     1     0     0     20     17\n",
      "13     l b     0     0     0     1     37     24\n",
      "14     d d     0     1     1     1     15     31\n",
      "15     Tod     1     1     0     0     32     38\n",
      "16     a g     0     1     0     1     10      6\n",
      "17     ill     0     0     0     1     27     13\n",
      "18     od      0     1     1     1      5     20\n",
      "19     rro     0     0     0     1     22     27\n",
      "20     row     0     0     0     1      0     34\n",
      "21     Mon     1     0     0     0     17      2\n",
      "22     nda     1     0     0     0     34      9\n",
      "23     Goo     0     0     1     0     12     16\n",
      "24     oda     1     1     0     0     29     23\n",
      "25     is      1     1     0     0      7     30\n",
      "26     ond     1     0     0     0     24     37\n",
      "27     ay.     1     1     1     1      2      5\n",
      "28     orr     0     0     0     1     19     12\n",
      "29      da     0     1     1     1     36     19\n",
      "30     be      0     0     0     1     14     26\n",
      "31      wi     0     0     0     1     31     33\n",
      "32     ood     0     1     1     1      9      1\n",
      "33     wil     0     0     0     1     26      8\n",
      "34     e a     0     0     0     1      4     15\n",
      "35     s M     1     0     0     0     21     22\n",
      "36      is     1     1     0     0     38     29\n",
      "37      be     0     0     0     1     16     36\n",
      "38     ay      1     1     0     0     33      4\n"
     ]
    }
   ],
   "source": [
    "import pandas as pd\n",
    "import numpy as np\n",
    "import random\n",
    "# with open(\"1.txt\", \"r\") as file:\n",
    "#   doc1 = file.read()\n",
    "# print(doc1)\n",
    "# with open(\"2.txt\", \"r\") as file:\n",
    "#   doc2 = file.read()\n",
    "# print(doc2)\n",
    "doc1 = \"Today is Monday.\"\n",
    "doc2 = \"Today is a good day.\"\n",
    "doc3 = \"Good day.\"\n",
    "doc4 = \"Tomorrow will be a good day.\"\n",
    "kval =3\n",
    "shingle1 = shinglewithoutsepr(doc1, kval)\n",
    "shingle2 = shinglewithoutsepr(doc2, kval)\n",
    "shingle3 = shinglewithoutsepr(doc3, kval)\n",
    "shingle4 = shinglewithoutsepr(doc4, kval)\n",
    "all_shingles = list(set(shingle1 + shingle2+shingle3+shingle4))\n",
    "print(\"Shingle 1:\", shingle1)\n",
    "print(\"Shingle 2:\", shingle2)\n",
    "print(\"Shingle 3:\", shingle3)\n",
    "print(\"Shingle 4:\", shingle4)\n",
    "print(\"All shingles:\", all_shingles)\n",
    "df = pd.DataFrame(columns=[\"Shingle\", \"doc1\", \"doc2\",\"doc3\",\"doc4\"])\n",
    "df[\"Shingle\"] = all_shingles\n",
    "df.fillna(0, inplace=True)\n",
    "for i in range(len(shingle1)):\n",
    "    df.loc[df[\"Shingle\"] == shingle1[i], \"doc1\"] = 1\n",
    "for i in range(len(shingle2)):\n",
    "    df.loc[df[\"Shingle\"] == shingle2[i], \"doc2\"] = 1\n",
    "for i in range(len(shingle3)):\n",
    "    df.loc[df[\"Shingle\"] == shingle3[i], \"doc3\"] = 1\n",
    "for i in range(len(shingle4)):\n",
    "    df.loc[df[\"Shingle\"] == shingle4[i], \"doc4\"] = 1\n",
    "df[\"Hash1\"] = df.index.map(lambda x: (17 * int(x) + 11) % len(df))\n",
    "df[\"Hash2\"] = df.index.map(lambda x: (7 * int(x) + 11) % len(df))\n",
    "print(len(df))\n",
    "print(df)"
   ]
  },
  {
   "cell_type": "markdown",
   "metadata": {
    "id": "9bLjFrIu6YCO"
   },
   "source": [
    "# **Practical 05 : Bloom Filter**"
   ]
  },
  {
   "cell_type": "code",
   "execution_count": 31,
   "metadata": {
    "colab": {
     "base_uri": "https://localhost:8080/",
     "height": 0
    },
    "id": "6-cgDYkg6fZ0",
    "outputId": "6d3f8e78-a3d4-47c4-9608-8bfd2dcaea33",
    "scrolled": true
   },
   "outputs": [
    {
     "name": "stdout",
     "output_type": "stream",
     "text": [
      "Element | h1(x) | h2(x) | Bit Index 1 | Bit Index 2\n",
      "---------------------------------------------------\n",
      "     15 |    16 |    13 |          16 |          13\n",
      "     10 |    11 |    15 |          11 |          15\n",
      "      3 |     4 |    11 |           4 |          11\n",
      "\n",
      "Bit array after adding elements:\n",
      "[0, 0, 0, 0, 1, 0, 0, 0, 0, 0, 0, 1, 0, 1, 0, 1, 1, 0]\n",
      "\n",
      "New Element: 7\n",
      "Hash1: 8, Bit Index 1: 8\n",
      "Hash2: 6, Bit Index 2: 6\n",
      "Is the new element 7 in the Bloom filter? No\n",
      "\n",
      "Bit array after checking new element:\n",
      "[0, 0, 0, 0, 1, 0, 0, 0, 0, 0, 0, 1, 0, 1, 0, 1, 1, 0]\n"
     ]
    }
   ],
   "source": [
    "def hash1(x):\n",
    "    return (x + 1) % 17\n",
    "\n",
    "def hash2(x):\n",
    "    return (3 * x + 2) % 17\n",
    "\n",
    "def compute_hashes(x, size):\n",
    "    h1 = hash1(x)\n",
    "    h2 = hash2(x)\n",
    "    index1 = h1 % size\n",
    "    index2 = h2 % size\n",
    "    return h1, h2, index1, index2\n",
    "\n",
    "# Initialize bit array with 0\n",
    "size = 18\n",
    "bit_array = [0] * size\n",
    "\n",
    "# Elements to add\n",
    "elements = [15, 10, 3]\n",
    "print(\"Element | h1(x) | h2(x) | Bit Index 1 | Bit Index 2\")\n",
    "print(\"---------------------------------------------------\")\n",
    "for element in elements:\n",
    "    h1, h2, index1, index2 = compute_hashes(element, size)\n",
    "    bit_array[index1] = 1\n",
    "    bit_array[index2] = 1\n",
    "    print(f\"{element:7} | {h1:5} | {h2:5} | {index1:11} | {index2:11}\")\n",
    "\n",
    "# Display the bit array\n",
    "print(\"\\nBit array after adding elements:\")\n",
    "print(bit_array)\n",
    "\n",
    "# Check new element\n",
    "new_element = 7\n",
    "new_h1, new_h2, new_index1, new_index2 = compute_hashes(new_element, size)\n",
    "\n",
    "print(f\"\\nNew Element: {new_element}\")\n",
    "print(f\"Hash1: {new_h1}, Bit Index 1: {new_index1}\")\n",
    "print(f\"Hash2: {new_h2}, Bit Index 2: {new_index2}\")\n",
    "\n",
    "# Check if the new element is likely present\n",
    "is_present = bit_array[new_index1] and bit_array[new_index2]\n",
    "print(f\"Is the new element {new_element} in the Bloom filter? {'Yes' if is_present else 'No'}\")\n",
    "\n",
    "# Display the updated bit array\n",
    "print(\"\\nBit array after checking new element:\")\n",
    "print(bit_array)\n"
   ]
  },
  {
   "cell_type": "markdown",
   "metadata": {
    "id": "fRoSVyPA6tOt"
   },
   "source": [
    "# **Practical 06 : Flajolet-Martin**"
   ]
  },
  {
   "cell_type": "code",
   "execution_count": 33,
   "metadata": {
    "colab": {
     "base_uri": "https://localhost:8080/",
     "height": 0
    },
    "id": "Btnh0nQF63lH",
    "outputId": "c6bf8f35-4e2d-4c7d-99b4-b0f70e2cf701"
   },
   "outputs": [
    {
     "name": "stdout",
     "output_type": "stream",
     "text": [
      "Element  | Hash 1 Value | Binary 1 Value | Trailing Zeros 1  | 2^r1   | Hash 2 Value | Binary 2 Value | Trailing Zeros 2  | 2^r2  \n",
      "------------------------------------------------------------------------------------------\n",
      "3        | 16           | 10000          | 4                 | 16     | 26           | 11010          | 1                 | 2     \n",
      "1        | 10           | 01010          | 1                 | 2      | 16           | 10000          | 4                 | 16    \n",
      "4        | 19           | 10011          | 0                 | 1      | 31           | 11111          | 0                 | 1     \n",
      "3        | 16           | 10000          | 4                 | 16     | 26           | 11010          | 1                 | 2     \n",
      "7        | 28           | 11100          | 2                 | 4      | 14           | 01110          | 1                 | 2     \n",
      "8        | 31           | 11111          | 0                 | 1      | 19           | 10011          | 0                 | 1     \n",
      "\n",
      "Maximum value of 2^r for Hash Function 1: 16\n",
      "Maximum value of 2^r for Hash Function 2: 16\n",
      "Average of the maximum values of 2^r: 16.0\n"
     ]
    }
   ],
   "source": [
    "def hash_function1(x):\n",
    "    return (3 * x + 7) % 32\n",
    "\n",
    "def hash_function2(x):\n",
    "    return (5 * x + 11) % 32\n",
    "\n",
    "def to_binary_string(value, bit_length=5):\n",
    "    return format(value, f'0{bit_length}b')\n",
    "\n",
    "def count_trailing_zeros(binary_value):\n",
    "    return len(binary_value) - len(binary_value.rstrip('0'))\n",
    "\n",
    "# Elements to process\n",
    "elements = [3, 1, 4, 3, 7, 8]\n",
    "\n",
    "# Prepare table data\n",
    "table_data = []\n",
    "max_power_of_two1 = 0  # Initialize the maximum value of 2^r for hash function 1\n",
    "max_power_of_two2 = 0  # Initialize the maximum value of 2^r for hash function 2\n",
    "\n",
    "for element in elements:\n",
    "    # Compute hash values for both functions\n",
    "    hash_value1 = hash_function1(element)\n",
    "    hash_value2 = hash_function2(element)\n",
    "\n",
    "    # Convert hash values to binary\n",
    "    binary_value1 = to_binary_string(hash_value1)\n",
    "    binary_value2 = to_binary_string(hash_value2)\n",
    "\n",
    "    # Count trailing zeros\n",
    "    r1 = count_trailing_zeros(binary_value1)\n",
    "    r2 = count_trailing_zeros(binary_value2)\n",
    "\n",
    "    # Compute power of two\n",
    "    power_of_two1 = 2 ** r1\n",
    "    power_of_two2 = 2 ** r2\n",
    "\n",
    "    # Update maximum power of two values\n",
    "    max_power_of_two1 = max(max_power_of_two1, power_of_two1)\n",
    "    max_power_of_two2 = max(max_power_of_two2, power_of_two2)\n",
    "\n",
    "    # Append row data\n",
    "    table_data.append((element, hash_value1, binary_value1, r1, power_of_two1,\n",
    "                       hash_value2, binary_value2, r2, power_of_two2))\n",
    "\n",
    "# Print table headers\n",
    "print(f\"{'Element':<8} | {'Hash 1 Value':<12} | {'Binary 1 Value':<14} | {'Trailing Zeros 1':<17} | {'2^r1':<6} | {'Hash 2 Value':<12} | {'Binary 2 Value':<14} | {'Trailing Zeros 2':<17} | {'2^r2':<6}\")\n",
    "print(\"-\" * 90)\n",
    "\n",
    "# Print table rows\n",
    "for element, hash_value1, binary_value1, r1, power_of_two1, hash_value2, binary_value2, r2, power_of_two2 in table_data:\n",
    "    print(f\"{element:<8} | {hash_value1:<12} | {binary_value1:<14} | {r1:<17} | {power_of_two1:<6} | {hash_value2:<12} | {binary_value2:<14} | {r2:<17} | {power_of_two2:<6}\")\n",
    "\n",
    "# Compute and print the average of the maximum values of 2^r for both hash functions\n",
    "average_max_power_of_two = (max_power_of_two1 + max_power_of_two2) / 2\n",
    "print(f\"\\nMaximum value of 2^r for Hash Function 1: {max_power_of_two1}\")\n",
    "print(f\"Maximum value of 2^r for Hash Function 2: {max_power_of_two2}\")\n",
    "print(f\"Average of the maximum values of 2^r: {average_max_power_of_two}\")\n"
   ]
  },
  {
   "cell_type": "markdown",
   "metadata": {},
   "source": [
    "# **Practical 07 : Compute n moments**"
   ]
  },
  {
   "cell_type": "code",
   "execution_count": 1,
   "metadata": {},
   "outputs": [
    {
     "name": "stderr",
     "output_type": "stream",
     "text": [
      "C:\\Users\\Qureshi\\anaconda3\\lib\\site-packages\\pandas\\core\\computation\\expressions.py:21: UserWarning: Pandas requires version '2.8.4' or newer of 'numexpr' (version '2.8.1' currently installed).\n",
      "  from pandas.core.computation.check import NUMEXPR_INSTALLED\n",
      "C:\\Users\\Qureshi\\anaconda3\\lib\\site-packages\\pandas\\core\\arrays\\masked.py:60: UserWarning: Pandas requires version '1.3.6' or newer of 'bottleneck' (version '1.3.4' currently installed).\n",
      "  from pandas.core import (\n"
     ]
    },
    {
     "name": "stdout",
     "output_type": "stream",
     "text": [
      "Enter the number of elements: 20\n",
      "Enter the number of X indices: 3\n",
      "Enter the position for X1: 4\n",
      "Enter the position for X2: 6\n",
      "Enter the position for X3: 5\n",
      "\n",
      "Generated Data Points: [1, 2, 2, 3, 2, 3, 1, 1, 4, 4, 2, 3, 1, 4, 3, 1, 1, 2, 2, 1]\n",
      "\n",
      "DataFrame with X columns:\n",
      "datapoints X1.el X2.el X3.el\n",
      "         1                  \n",
      "         2                  \n",
      "         2                  \n",
      "         3     1            \n",
      "         2                 1\n",
      "         3     1     1      \n",
      "         1                  \n",
      "         1                  \n",
      "         4                  \n",
      "         4                  \n",
      "         2                 1\n",
      "         3     1     1      \n",
      "         1                  \n",
      "         4                  \n",
      "         3     1     1      \n",
      "         1                  \n",
      "         1                  \n",
      "         2                 1\n",
      "         2                 1\n",
      "         1                  \n",
      "\n",
      "X values: [4, 3, 4]\n",
      "Second moment surprise number: 126.66666666666667\n",
      "Frequency-based surprise number: 110\n"
     ]
    }
   ],
   "source": [
    "import numpy as np\n",
    "import pandas as pd\n",
    "\n",
    "# Function to create and update X columns\n",
    "def create_x_columns(data_points, x_indices):\n",
    "    # Create a DataFrame to store the data points\n",
    "    df = pd.DataFrame({'datapoints': data_points})\n",
    "\n",
    "    for i, xi in enumerate(x_indices):\n",
    "        col_name = f'X{i+1}.el'\n",
    "        df[col_name] = None  # Initialize column with None\n",
    "\n",
    "        # Get the value at the starting index for the current X\n",
    "        if xi - 1 < len(data_points):  # Ensure the index is within bounds\n",
    "            start_value = data_points[xi - 1]\n",
    "\n",
    "            # Update the X column\n",
    "            for j in range(xi - 1, len(data_points)):\n",
    "                if data_points[j] == start_value:\n",
    "                    df.loc[j, col_name] = 1\n",
    "\n",
    "    return df\n",
    "\n",
    "# Function to calculate X values and second moment\n",
    "def calculate_second_moment(df, x_indices):\n",
    "    n = len(df)\n",
    "    x_vals = []\n",
    "\n",
    "    for i in range(len(x_indices)):\n",
    "        col_name = f'X{i+1}.el'\n",
    "        x_val = df[col_name].sum()\n",
    "        x_vals.append(x_val)\n",
    "\n",
    "    second_moments = [n * (2 * x_val - 1) for x_val in x_vals]\n",
    "    surprise_number = np.mean(second_moments)\n",
    "\n",
    "    return x_vals, surprise_number\n",
    "\n",
    "# Function to calculate the surprise based on frequency squares\n",
    "def calculate_frequency_surprise(data_points):\n",
    "    # Calculate frequency of each data point\n",
    "    freq = pd.Series(data_points).value_counts()\n",
    "\n",
    "    # Square the frequencies and sum them up\n",
    "    freq_squares_sum = np.sum(freq ** 2)\n",
    "\n",
    "    return freq_squares_sum\n",
    "\n",
    "# Main function to run the algorithm\n",
    "def main():\n",
    "    # Get user input for the number of elements and X indices\n",
    "    num_elements = int(input(\"Enter the number of elements: \"))\n",
    "    num_x = int(input(\"Enter the number of X indices: \"))\n",
    "\n",
    "    x_indices = []\n",
    "    for i in range(num_x):\n",
    "        x_index = int(input(f\"Enter the position for X{i+1}: \"))\n",
    "        x_indices.append(x_index)\n",
    "\n",
    "    # Generate random data points\n",
    "    data_points = np.random.randint(1, 5, num_elements).tolist()\n",
    "    print(\"\\nGenerated Data Points:\", data_points)\n",
    "\n",
    "    # Create X columns and update values\n",
    "    df = create_x_columns(data_points, x_indices)\n",
    "\n",
    "    # Clean up the DataFrame to remove columns that are entirely None\n",
    "    df_clean = df.dropna(axis=1, how='all')\n",
    "\n",
    "    # Remove rows with all None values in X columns\n",
    "    df_clean = df_clean.dropna(axis=0, how='all')\n",
    "\n",
    "    # Convert DataFrame to a format without None values\n",
    "    df_clean = df_clean.fillna('').astype(str)\n",
    "\n",
    "    # Print the cleaned DataFrame\n",
    "    print(\"\\nDataFrame with X columns:\")\n",
    "    print(df_clean.to_string(index=False))\n",
    "\n",
    "    # Calculate X values and second moment\n",
    "    x_vals, second_moment_surprise = calculate_second_moment(df, x_indices)\n",
    "\n",
    "    # Calculate the frequency-based surprise value\n",
    "    frequency_surprise = calculate_frequency_surprise(data_points)\n",
    "\n",
    "    print(\"\\nX values:\", x_vals)\n",
    "    print(\"Second moment surprise number:\", second_moment_surprise)\n",
    "    print(\"Frequency-based surprise number:\", frequency_surprise)\n",
    "\n",
    "if __name__ == \"__main__\":\n",
    "    main()\n"
   ]
  },
  {
   "cell_type": "markdown",
   "metadata": {
    "id": "jpFjtjap7MU_"
   },
   "source": [
    "# **Practical 08 : Greedy Algorithm for Maximum Matching**"
   ]
  },
  {
   "cell_type": "code",
   "execution_count": 34,
   "metadata": {
    "colab": {
     "base_uri": "https://localhost:8080/",
     "height": 574
    },
    "id": "zSPMsRrL7a9z",
    "outputId": "bd6d511c-0eee-4d96-c3f9-24d25947dff7",
    "scrolled": true
   },
   "outputs": [
    {
     "name": "stdout",
     "output_type": "stream",
     "text": [
      "Is the graph bipartite? True\n",
      "Greedy Maximum Matching: {(2, 'b'), (1, 'a'), (3, 'c')}\n"
     ]
    },
    {
     "data": {
      "image/png": "[encoded data removed]",
      "text/plain": [
       "<Figure size 640x480 with 1 Axes>"
      ]
     },
     "metadata": {},
     "output_type": "display_data"
    }
   ],
   "source": [
    "import networkx as nx\n",
    "import matplotlib.pyplot as plt\n",
    "from networkx.algorithms import bipartite\n",
    "\n",
    "# Create a bipartite graph\n",
    "def create_bipartite_graph():\n",
    "    B = nx.Graph()\n",
    "    # Add nodes with the attribute \"bipartite\"\n",
    "    top_nodes = {1, 2, 3}\n",
    "    bottom_nodes = {'a', 'b', 'c'}\n",
    "    B.add_nodes_from(top_nodes, bipartite=0)\n",
    "    B.add_nodes_from(bottom_nodes, bipartite=1)\n",
    "\n",
    "    # Add edges between nodes in the two sets\n",
    "    edges = [(1, 'a'), (1, 'b'), (2, 'b'), (3, 'c')]\n",
    "    B.add_edges_from(edges)\n",
    "\n",
    "    return B, top_nodes, bottom_nodes\n",
    "\n",
    "# Greedy algorithm for maximum matching\n",
    "def greedy_maximum_matching(B, top_nodes, bottom_nodes):\n",
    "    matching = set()  # To store the matching pairs\n",
    "    matched_nodes = set()  # To keep track of matched nodes\n",
    "\n",
    "    # Iterate over edges greedily\n",
    "    for u, v in B.edges():\n",
    "        if u not in matched_nodes and v not in matched_nodes:\n",
    "            matching.add((u, v))\n",
    "            matched_nodes.add(u)\n",
    "            matched_nodes.add(v)\n",
    "\n",
    "    return matching\n",
    "\n",
    "# Step 1: Create a bipartite graph\n",
    "B, top_nodes, bottom_nodes = create_bipartite_graph()\n",
    "\n",
    "# Step 2: Check if the graph is bipartite\n",
    "is_bipartite = bipartite.is_bipartite(B)\n",
    "print(f\"Is the graph bipartite? {is_bipartite}\")\n",
    "\n",
    "# Step 3: Perform greedy maximum matching if bipartite\n",
    "if is_bipartite:\n",
    "    # Apply the greedy maximum matching algorithm\n",
    "    matching = greedy_maximum_matching(B, top_nodes, bottom_nodes)\n",
    "    print(f\"Greedy Maximum Matching: {matching}\")\n",
    "\n",
    "    # Step 4: Plot the graph with matching edges highlighted\n",
    "    pos = nx.bipartite_layout(B, top_nodes)\n",
    "\n",
    "    # Highlight matching edges in red\n",
    "    matching_edges = list(matching)\n",
    "    edge_colors = ['red' if (u, v) in matching_edges or (v, u) in matching_edges else 'black' for u, v in B.edges()]\n",
    "\n",
    "    # Draw the graph with the highlighted matching\n",
    "    nx.draw(B, pos, with_labels=True, edge_color=edge_colors, node_color=['lightblue' if n in top_nodes else 'lightgreen' for n in B.nodes()], node_size=2000, font_size=15)\n",
    "    plt.title(\"Bipartite Graph with Greedy Maximum Matching\")\n",
    "    plt.show()\n",
    "else:\n",
    "    print(\"The graph is not bipartite.\")"
   ]
  },
  {
   "cell_type": "code",
   "execution_count": 40,
   "metadata": {
    "colab": {
     "base_uri": "https://localhost:8080/",
     "height": 0
    },
    "id": "BYsODWLt938p",
    "outputId": "bae85444-9fc9-4fca-fc92-0b400c7407c4"
   },
   "outputs": [
    {
     "name": "stdout",
     "output_type": "stream",
     "text": [
      "Signature matrix =\n",
      " [[2. 2. 2. 0.]\n",
      " [2. 1. 1. 0.]]\n"
     ]
    }
   ],
   "source": [
    "sig = np.full((2,4), np.inf)\n",
    "for index, row in df.iterrows():\n",
    "   if row[\"doc1\"] == 1:\n",
    "       sig[0, 0] = min(sig[0, 0], row[\"Hash1\"])\n",
    "       sig[1, 0] = min(sig[1, 0], row[\"Hash2\"])\n",
    "   if row[\"doc2\"] == 1:\n",
    "       sig[0, 1] = min(sig[0, 1], row[\"Hash1\"])\n",
    "       sig[1, 1] = min(sig[1, 1], row[\"Hash2\"])\n",
    "   if row[\"doc3\"] == 1:\n",
    "       sig[0, 2] = min(sig[0, 2], row[\"Hash1\"])\n",
    "       sig[1, 2] = min(sig[1, 2], row[\"Hash2\"])\n",
    "   if row[\"doc4\"] == 1:\n",
    "       sig[0, 3] = min(sig[0, 3], row[\"Hash1\"])\n",
    "       sig[1, 3] = min(sig[1, 3], row[\"Hash2\"])\n",
    "print(\"Signature matrix =\\n\",sig)"
   ]
  },
  {
   "cell_type": "markdown",
   "metadata": {
    "id": "fVDOYqOl8ngZ"
   },
   "source": [
    "# **PCY**"
   ]
  },
  {
   "cell_type": "code",
   "execution_count": 37,
   "metadata": {
    "colab": {
     "base_uri": "https://localhost:8080/",
     "height": 0
    },
    "id": "28K5ntkS8epu",
    "outputId": "8f0aff18-1efe-4ec8-d3c2-ef6607bec864"
   },
   "outputs": [
    {
     "name": "stdout",
     "output_type": "stream",
     "text": [
      "Unique items: [1, 2, 3, 5, 6, 4]\n",
      "Counts of each unique item: [4, 6, 8, 6, 4, 8]\n",
      "Pairs of unique items: [(1, 2), (1, 3), (1, 5), (1, 6), (1, 4), (2, 3), (2, 5), (2, 6), (2, 4), (3, 5), (3, 6), (3, 4), (5, 6), (5, 4), (6, 4)]\n",
      "Counts of each pair in transactions: {(1, 2): 2, (1, 3): 3, (1, 5): 1, (1, 6): 0, (1, 4): 2, (2, 3): 3, (2, 5): 2, (2, 6): 1, (2, 4): 4, (3, 5): 4, (3, 6): 2, (3, 4): 4, (5, 6): 2, (5, 4): 3, (6, 4): 3}\n",
      "Enetr Bucket Size value: 11\n",
      "Filtered pairs, counts, and hash values:\n",
      "Pair: (2, 4), Count: 4, Hash Value: 8\n",
      "Pair: (3, 5), Count: 4, Hash Value: 4\n",
      "Pair: (3, 4), Count: 4, Hash Value: 1\n",
      "\n",
      "Table of pairs, counts, and hash values:\n",
      "Pair\t\tCount\tHash Value\n",
      "(2, 4)\t4\t8\n",
      "(3, 5)\t4\t4\n",
      "(3, 4)\t4\t1\n"
     ]
    }
   ],
   "source": [
    "# Example list of transactions\n",
    "transactions = [\n",
    "    [1, 2, 3],\n",
    "    [1, 3, 5],\n",
    "    [3, 5, 6],\n",
    "    [2, 3, 4],\n",
    "    [2, 4, 6],\n",
    "    [1, 2, 4],\n",
    "    [3, 4, 5],\n",
    "    [1, 3, 4],\n",
    "    [2, 3, 5],\n",
    "    [4, 5, 6],\n",
    "    [2, 4, 5],\n",
    "    [3, 4, 6]\n",
    "]\n",
    "\n",
    "# Step 1: Get unique items\n",
    "unique = []\n",
    "for transaction in transactions:\n",
    "    for item in transaction:\n",
    "        if item not in unique:\n",
    "            unique.append(item)\n",
    "\n",
    "print(\"Unique items:\", unique)\n",
    "\n",
    "# Step 2: Count occurrences of each unique item\n",
    "count = []\n",
    "for item in unique:\n",
    "    item_count = sum(transaction.count(item) for transaction in transactions)\n",
    "    count.append(item_count)\n",
    "\n",
    "print(\"Counts of each unique item:\", count)\n",
    "\n",
    "# Step 3: Create pairs of each unique item\n",
    "pairs = []\n",
    "for i in range(len(unique)):\n",
    "    for j in range(i + 1, len(unique)):\n",
    "        pairs.append((unique[i], unique[j]))\n",
    "\n",
    "print(\"Pairs of unique items:\", pairs)\n",
    "\n",
    "# Step 4: Check if pair is available in transaction and count its occurrences\n",
    "pair_counts = {}\n",
    "for pair in pairs:\n",
    "    count = 0\n",
    "    for transaction in transactions:\n",
    "        if pair[0] in transaction and pair[1] in transaction:\n",
    "            count += 1\n",
    "    pair_counts[pair] = count\n",
    "\n",
    "print(\"Counts of each pair in transactions:\", pair_counts)\n",
    "\n",
    "\n",
    "\n",
    "# Step 5: Apply threshold and hash function\n",
    "threshold = 4\n",
    "bucket_size = int(input(\"Enetr Bucket Size value: \"))\n",
    "\n",
    "# Hash function\n",
    "def hash_function(i, j):\n",
    "    return (i * j) % bucket_size\n",
    "\n",
    "# Filter pairs based on threshold and calculate hash values using item values, not their indices\n",
    "hash_table = []\n",
    "for pair, count in pair_counts.items():\n",
    "    if count >= threshold:\n",
    "        # Corrected: Use the actual item values for hashing\n",
    "        hash_value = hash_function(pair[0], pair[1])\n",
    "        hash_table.append((pair, count, hash_value))\n",
    "\n",
    "print(\"Filtered pairs, counts, and hash values:\")\n",
    "for entry in hash_table:\n",
    "    print(f\"Pair: {entry[0]}, Count: {entry[1]}, Hash Value: {entry[2]}\")\n",
    "\n",
    "# Step 6: Create a table of pairs, their counts, and their hash values\n",
    "print(\"\\nTable of pairs, counts, and hash values:\")\n",
    "print(\"Pair\\t\\tCount\\tHash Value\")\n",
    "for entry in hash_table:\n",
    "    print(f\"{entry[0]}\\t{entry[1]}\\t{entry[2]}\")"
   ]
  }
 ],
 "metadata": {
  "colab": {
   "collapsed_sections": [
    "oFJRIgjRzfMB",
    "387XOxUf0hcH",
    "9bLjFrIu6YCO",
    "fRoSVyPA6tOt",
    "jpFjtjap7MU_",
    "jUjzw1ME75Xu",
    "h7uWYqmm9qek",
    "fVDOYqOl8ngZ"
   ],
   "provenance": []
  },
  "kernelspec": {
   "display_name": "Python 3 (ipykernel)",
   "language": "python",
   "name": "python3"
  },
  "language_info": {
   "codemirror_mode": {
    "name": "ipython",
    "version": 3
   },
   "file_extension": ".py",
   "mimetype": "text/x-python",
   "name": "python",
   "nbconvert_exporter": "python",
   "pygments_lexer": "ipython3",
   "version": "3.9.12"
  }
 },
 "nbformat": 4,
 "nbformat_minor": 1
}
