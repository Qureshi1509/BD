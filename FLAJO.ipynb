{
 "cells": [
  {
   "cell_type": "code",
   "execution_count": 2,
   "id": "bbbdecfb",
   "metadata": {},
   "outputs": [],
   "source": [
    "# **Practical 06 : Flajolet-Martin**"
   ]
  },
  {
   "cell_type": "code",
   "execution_count": 1,
   "id": "d419cce8",
   "metadata": {},
   "outputs": [
    {
     "name": "stdout",
     "output_type": "stream",
     "text": [
      "Element  | Hash 1 Value | Binary 1 Value | Trailing Zeros 1  | 2^r1   | Hash 2 Value | Binary 2 Value | Trailing Zeros 2  | 2^r2  \n",
      "------------------------------------------------------------------------------------------\n",
      "3        | 16           | 10000          | 4                 | 16     | 26           | 11010          | 1                 | 2     \n",
      "1        | 10           | 01010          | 1                 | 2      | 16           | 10000          | 4                 | 16    \n",
      "4        | 19           | 10011          | 0                 | 1      | 31           | 11111          | 0                 | 1     \n",
      "3        | 16           | 10000          | 4                 | 16     | 26           | 11010          | 1                 | 2     \n",
      "7        | 28           | 11100          | 2                 | 4      | 14           | 01110          | 1                 | 2     \n",
      "8        | 31           | 11111          | 0                 | 1      | 19           | 10011          | 0                 | 1     \n",
      "\n",
      "Maximum value of 2^r for Hash Function 1: 16\n",
      "Maximum value of 2^r for Hash Function 2: 16\n",
      "Average of the maximum values of 2^r: 16.0\n"
     ]
    }
   ],
   "source": [
    "def hash_function1(x):\n",
    "    return (3 * x + 7) % 32\n",
    "\n",
    "def hash_function2(x):\n",
    "    return (5 * x + 11) % 32\n",
    "\n",
    "def to_binary_string(value, bit_length=5):\n",
    "    return format(value, f'0{bit_length}b')\n",
    "\n",
    "def count_trailing_zeros(binary_value):\n",
    "    return len(binary_value) - len(binary_value.rstrip('0'))\n",
    "\n",
    "# Elements to process\n",
    "elements = [3, 1, 4, 3, 7, 8]\n",
    "\n",
    "# Prepare table data\n",
    "table_data = []\n",
    "max_power_of_two1 = 0  # Initialize the maximum value of 2^r for hash function 1\n",
    "max_power_of_two2 = 0  # Initialize the maximum value of 2^r for hash function 2\n",
    "\n",
    "for element in elements:\n",
    "    # Compute hash values for both functions\n",
    "    hash_value1 = hash_function1(element)\n",
    "    hash_value2 = hash_function2(element)\n",
    "\n",
    "    # Convert hash values to binary\n",
    "    binary_value1 = to_binary_string(hash_value1)\n",
    "    binary_value2 = to_binary_string(hash_value2)\n",
    "\n",
    "    # Count trailing zeros\n",
    "    r1 = count_trailing_zeros(binary_value1)\n",
    "    r2 = count_trailing_zeros(binary_value2)\n",
    "\n",
    "    # Compute power of two\n",
    "    power_of_two1 = 2 ** r1\n",
    "    power_of_two2 = 2 ** r2\n",
    "\n",
    "    # Update maximum power of two values\n",
    "    max_power_of_two1 = max(max_power_of_two1, power_of_two1)\n",
    "    max_power_of_two2 = max(max_power_of_two2, power_of_two2)\n",
    "\n",
    "    # Append row data\n",
    "    table_data.append((element, hash_value1, binary_value1, r1, power_of_two1,\n",
    "                       hash_value2, binary_value2, r2, power_of_two2))\n",
    "\n",
    "# Print table headers\n",
    "print(f\"{'Element':<8} | {'Hash 1 Value':<12} | {'Binary 1 Value':<14} | {'Trailing Zeros 1':<17} | {'2^r1':<6} | {'Hash 2 Value':<12} | {'Binary 2 Value':<14} | {'Trailing Zeros 2':<17} | {'2^r2':<6}\")\n",
    "print(\"-\" * 90)\n",
    "\n",
    "# Print table rows\n",
    "for element, hash_value1, binary_value1, r1, power_of_two1, hash_value2, binary_value2, r2, power_of_two2 in table_data:\n",
    "    print(f\"{element:<8} | {hash_value1:<12} | {binary_value1:<14} | {r1:<17} | {power_of_two1:<6} | {hash_value2:<12} | {binary_value2:<14} | {r2:<17} | {power_of_two2:<6}\")\n",
    "\n",
    "# Compute and print the average of the maximum values of 2^r for both hash functions\n",
    "average_max_power_of_two = (max_power_of_two1 + max_power_of_two2) / 2\n",
    "print(f\"\\nMaximum value of 2^r for Hash Function 1: {max_power_of_two1}\")\n",
    "print(f\"Maximum value of 2^r for Hash Function 2: {max_power_of_two2}\")\n",
    "print(f\"Average of the maximum values of 2^r: {average_max_power_of_two}\")\n"
   ]
  }
 ],
 "metadata": {
  "kernelspec": {
   "display_name": "Python 3 (ipykernel)",
   "language": "python",
   "name": "python3"
  },
  "language_info": {
   "codemirror_mode": {
    "name": "ipython",
    "version": 3
   },
   "file_extension": ".py",
   "mimetype": "text/x-python",
   "name": "python",
   "nbconvert_exporter": "python",
   "pygments_lexer": "ipython3",
   "version": "3.9.12"
  }
 },
 "nbformat": 4,
 "nbformat_minor": 5
}
