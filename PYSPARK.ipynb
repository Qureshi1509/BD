{
 "cells": [
  {
   "cell_type": "markdown",
   "metadata": {
    "id": "sT8yTXet-AS4"
   },
   "source": [
    "**Name: Afrin Qureshi**\n",
    "\n",
    "**Rollno:L026**\n",
    "\n",
    "**Subject: Big Data Analysis**\n",
    "\n"
   ]
  },
  {
   "cell_type": "markdown",
   "metadata": {
    "id": "oFJRIgjRzfMB"
   },
   "source": [
    "# **Practical 01 : Practical on SparkSQL**"
   ]
  },
  {
   "cell_type": "code",
   "execution_count": null,
   "metadata": {
    "id": "Jb6fybynzvwu"
   },
   "outputs": [],
   "source": [
    "!pip install pyspark"
   ]
  },
  {
   "cell_type": "code",
   "execution_count": 4,
   "metadata": {
    "id": "DU-yCTdnzagi"
   },
   "outputs": [],
   "source": [
    "from pyspark.sql import SparkSession\n",
    "spark = SparkSession.builder.getOrCreate()\n",
    "import pandas as pd"
   ]
  },
  {
   "cell_type": "code",
   "execution_count": 5,
   "metadata": {
    "colab": {
     "base_uri": "https://localhost:8080/",
     "height": 0
    },
    "id": "e_0mg4KFzYjQ",
    "outputId": "a3bf079c-98ed-4dbb-ab4d-806576e24699"
   },
   "outputs": [
    {
     "name": "stdout",
     "output_type": "stream",
     "text": [
      "+---------+--------+-------+-----+\n",
      "|firstname|lastname|country|state|\n",
      "+---------+--------+-------+-----+\n",
      "|    James|   Smith|    USA|   CA|\n",
      "|  Michael|    Rose|    USA|   NY|\n",
      "|   Robert|Williams|    USA|   CA|\n",
      "|    Maria|   Jones|    USA|   FL|\n",
      "+---------+--------+-------+-----+\n",
      "\n"
     ]
    }
   ],
   "source": [
    "data = [(\"James\",\"Smith\",\"USA\",\"CA\"),(\"Michael\",\"Rose\",\"USA\",\"NY\"),\n",
    "    (\"Robert\",\"Williams\",\"USA\",\"CA\"),(\"Maria\",\"Jones\",\"USA\",\"FL\")\n",
    "  ]\n",
    "columns=[\"firstname\",\"lastname\",\"country\",\"state\"]\n",
    "df=spark.createDataFrame(data=data,schema=columns)\n",
    "#df.printSchema()\n",
    "df.show()\n",
    "#print(df.collect())"
   ]
  },
  {
   "cell_type": "code",
   "execution_count": 6,
   "metadata": {
    "colab": {
     "base_uri": "https://localhost:8080/",
     "height": 0
    },
    "id": "HW8KcF0x0P7t",
    "outputId": "05687bee-6395-4fc8-d478-4a3c2164b19b"
   },
   "outputs": [
    {
     "name": "stdout",
     "output_type": "stream",
     "text": [
      "+----------+---------+----------+\n",
      "|      date|increment|  inc_date|\n",
      "+----------+---------+----------+\n",
      "|2019-01-23|        1|2019-02-23|\n",
      "|2019-06-24|        2|2019-08-24|\n",
      "|2019-09-20|        5|2020-02-20|\n",
      "+----------+---------+----------+\n",
      "\n"
     ]
    }
   ],
   "source": [
    "from pyspark.sql.functions import col,expr\n",
    "data=[(\"2019-01-23\",1),(\"2019-06-24\",2),(\"2019-09-20\",5)]\n",
    "spark.createDataFrame(data).toDF(\"date\",\"increment\") \\\n",
    "    .select(col(\"date\"),col(\"increment\"), \\\n",
    "      expr(\"add_months(to_date(date,'yyyy-MM-dd'),cast(increment as int))\").alias(\"inc_date\")) \\\n",
    "    .show()"
   ]
  },
  {
   "cell_type": "code",
   "execution_count": 8,
   "metadata": {
    "colab": {
     "base_uri": "https://localhost:8080/",
     "height": 0
    },
    "id": "Y8qzaIEi0WBI",
    "outputId": "bbe67c70-29b4-4baa-bcf8-3219b109110b",
    "scrolled": true
   },
   "outputs": [
    {
     "name": "stdout",
     "output_type": "stream",
     "text": [
      "+---+\n",
      "|seq|\n",
      "+---+\n",
      "|  1|\n",
      "+---+\n",
      "\n"
     ]
    }
   ],
   "source": [
    "from pyspark.sql.functions import col\n",
    "from pyspark.sql.functions import to_timestamp, current_timestamp\n",
    "from pyspark.sql.types import StructType, StructField, StringType, IntegerType, LongType\n",
    "spark = SparkSession.builder.appName('SparkByExamples.com').getOrCreate()\n",
    "\n",
    "schema = StructType([\n",
    "            StructField(\"seq\", StringType(), True)])\n",
    "\n",
    "# Modify the data to be a list of strings\n",
    "dates = [['1']]  # Now a list containing a single-element list\n",
    "\n",
    "df = spark.createDataFrame(dates, schema=schema)\n",
    "\n",
    "df.show()"
   ]
  },
  {
   "cell_type": "markdown",
   "metadata": {
    "id": "387XOxUf0hcH"
   },
   "source": [
    "# **Practical 02 : PySpark with pipline**"
   ]
  },
  {
   "cell_type": "code",
   "execution_count": 9,
   "metadata": {
    "id": "xiY2GsMK0mNy"
   },
   "outputs": [],
   "source": [
    "from pyspark.sql import SparkSession\n",
    "from pyspark import SparkContext\n",
    "spark = SparkSession.builder.getOrCreate()\n",
    "import pandas as pd\n",
    "import pyspark.sql.types as tp\n",
    "from pyspark.ml.feature import Imputer\n",
    "from pyspark.ml.feature import VectorAssembler\n",
    "from pyspark.ml.classification import LogisticRegression"
   ]
  },
  {
   "cell_type": "code",
   "execution_count": 10,
   "metadata": {
    "id": "kegJah-Z0vQf"
   },
   "outputs": [],
   "source": [
    "#read csv file\n",
    "my_data=spark.read.csv('/content/drive/MyDrive/diabetes.csv',header=True)"
   ]
  },
  {
   "cell_type": "code",
   "execution_count": 11,
   "metadata": {
    "colab": {
     "base_uri": "https://localhost:8080/",
     "height": 0
    },
    "id": "uaLKgRJ708te",
    "outputId": "3c6d4d07-4fe3-4634-ae47-b67b67c03bb5"
   },
   "outputs": [
    {
     "name": "stdout",
     "output_type": "stream",
     "text": [
      "+-----------+-------+-------------+-------------+-------+----+------------------------+---+-------+\n",
      "|Pregnancies|Glucose|BloodPressure|SkinThickness|Insulin| BMI|DiabetesPedigreeFunction|Age|Outcome|\n",
      "+-----------+-------+-------------+-------------+-------+----+------------------------+---+-------+\n",
      "|          6|    148|           72|           35|      0|33.6|                   0.627| 50|      1|\n",
      "|          1|     85|           66|           29|      0|26.6|                   0.351| 31|      0|\n",
      "|          8|    183|           64|            0|      0|23.3|                   0.672| 32|      1|\n",
      "|          1|     89|           66|           23|     94|28.1|                   0.167| 21|      0|\n",
      "|          0|    137|           40|           35|    168|43.1|                   2.288| 33|      1|\n",
      "|          5|    116|           74|            0|      0|25.6|                   0.201| 30|      0|\n",
      "|          3|     78|           50|           32|     88|  31|                   0.248| 26|      1|\n",
      "|         10|    115|            0|            0|      0|35.3|                   0.134| 29|      0|\n",
      "|          2|    197|           70|           45|    543|30.5|                   0.158| 53|      1|\n",
      "|          8|    125|           96|            0|      0|   0|                   0.232| 54|      1|\n",
      "|          4|    110|           92|            0|      0|37.6|                   0.191| 30|      0|\n",
      "|         10|    168|           74|            0|      0|  38|                   0.537| 34|      1|\n",
      "|         10|    139|           80|            0|      0|27.1|                   1.441| 57|      0|\n",
      "|          1|    189|           60|           23|    846|30.1|                   0.398| 59|      1|\n",
      "|          5|    166|           72|           19|    175|25.8|                   0.587| 51|      1|\n",
      "|          7|    100|            0|            0|      0|  30|                   0.484| 32|      1|\n",
      "|          0|    118|           84|           47|    230|45.8|                   0.551| 31|      1|\n",
      "|          7|    107|           74|            0|      0|29.6|                   0.254| 31|      1|\n",
      "|          1|    103|           30|           38|     83|43.3|                   0.183| 33|      0|\n",
      "|          1|    115|           70|           30|     96|34.6|                   0.529| 32|      1|\n",
      "+-----------+-------+-------------+-------------+-------+----+------------------------+---+-------+\n",
      "only showing top 20 rows\n",
      "\n"
     ]
    }
   ],
   "source": [
    "my_data.show()"
   ]
  },
  {
   "cell_type": "code",
   "execution_count": 12,
   "metadata": {
    "colab": {
     "base_uri": "https://localhost:8080/",
     "height": 0
    },
    "id": "F492km4i0-R4",
    "outputId": "0a7d83cc-f5e9-4bb7-ae64-e3eab45a077d"
   },
   "outputs": [
    {
     "name": "stdout",
     "output_type": "stream",
     "text": [
      "root\n",
      " |-- Pregnancies: string (nullable = true)\n",
      " |-- Glucose: string (nullable = true)\n",
      " |-- BloodPressure: string (nullable = true)\n",
      " |-- SkinThickness: string (nullable = true)\n",
      " |-- Insulin: string (nullable = true)\n",
      " |-- BMI: string (nullable = true)\n",
      " |-- DiabetesPedigreeFunction: string (nullable = true)\n",
      " |-- Age: string (nullable = true)\n",
      " |-- Outcome: string (nullable = true)\n",
      "\n"
     ]
    }
   ],
   "source": [
    "#see the schema\n",
    "my_data.printSchema()"
   ]
  },
  {
   "cell_type": "code",
   "execution_count": 15,
   "metadata": {
    "id": "E1wFnZYl1QBe"
   },
   "outputs": [],
   "source": [
    "#define schema\n",
    "my_schema=tp.StructType(\n",
    "    [\n",
    "        tp.StructField('Pregnancies',tp.IntegerType(),True),\n",
    "        tp.StructField('Glucose',tp.IntegerType(),True),\n",
    "        tp.StructField('BloodPressure',tp.IntegerType(),True),\n",
    "        tp.StructField('SkinThickness',tp.IntegerType(),True),\n",
    "        tp.StructField('Insulin',tp.IntegerType(),True),\n",
    "        tp.StructField('BMI',tp.FloatType(),True),\n",
    "        tp.StructField('DiabetesPedigreeFunction',tp.FloatType(),True),\n",
    "        tp.StructField('Age',tp.IntegerType(),True),\n",
    "        tp.StructField('Outcome',tp.IntegerType(),True)\n",
    "    ]\n",
    ")"
   ]
  },
  {
   "cell_type": "code",
   "execution_count": 17,
   "metadata": {
    "colab": {
     "base_uri": "https://localhost:8080/",
     "height": 0
    },
    "id": "QaT2ZsgM4Vdh",
    "outputId": "a2101f84-520b-4c1e-aff5-3da9916df1ac"
   },
   "outputs": [
    {
     "name": "stdout",
     "output_type": "stream",
     "text": [
      "root\n",
      " |-- Pregnancies: integer (nullable = true)\n",
      " |-- Glucose: integer (nullable = true)\n",
      " |-- BloodPressure: integer (nullable = true)\n",
      " |-- SkinThickness: integer (nullable = true)\n",
      " |-- Insulin: integer (nullable = true)\n",
      " |-- BMI: float (nullable = true)\n",
      " |-- DiabetesPedigreeFunction: float (nullable = true)\n",
      " |-- Age: integer (nullable = true)\n",
      " |-- Outcome: integer (nullable = true)\n",
      "\n"
     ]
    }
   ],
   "source": [
    "my_data=spark.read.csv('/content/drive/MyDrive/diabetes.csv',header=True,schema=my_schema)\n",
    "my_data.printSchema()"
   ]
  },
  {
   "cell_type": "code",
   "execution_count": 18,
   "metadata": {
    "colab": {
     "base_uri": "https://localhost:8080/",
     "height": 0
    },
    "id": "SB2NlfI-4kC3",
    "outputId": "7984ea2e-674d-4529-da98-60a80b0a1127"
   },
   "outputs": [
    {
     "data": {
      "text/plain": [
       "(768, 9)"
      ]
     },
     "execution_count": 18,
     "metadata": {},
     "output_type": "execute_result"
    }
   ],
   "source": [
    "#get dimension of data\n",
    "(my_data.count(),len(my_data.columns))"
   ]
  },
  {
   "cell_type": "code",
   "execution_count": 19,
   "metadata": {
    "colab": {
     "base_uri": "https://localhost:8080/",
     "height": 0
    },
    "id": "7dUQoYWm4pJ8",
    "outputId": "7c603175-f6c5-40fc-a952-dedacdb81fe5"
   },
   "outputs": [
    {
     "data": {
      "text/plain": [
       "Row(Pregnancies=6, Glucose=148, BloodPressure=72, SkinThickness=35, Insulin=0, BMI=33.599998474121094, DiabetesPedigreeFunction=0.6269999742507935, Age=50, Outcome=1)"
      ]
     },
     "execution_count": 19,
     "metadata": {},
     "output_type": "execute_result"
    }
   ],
   "source": [
    "my_data.head()"
   ]
  },
  {
   "cell_type": "code",
   "execution_count": 20,
   "metadata": {
    "colab": {
     "base_uri": "https://localhost:8080/",
     "height": 0
    },
    "id": "6UHRAX1M4ymG",
    "outputId": "c0281b1e-5fb7-43be-ad0a-a8f2a1fdeec8"
   },
   "outputs": [
    {
     "name": "stdout",
     "output_type": "stream",
     "text": [
      "+-----------+-------+-------------+-------------+-------+----+------------------------+---+-------+\n",
      "|Pregnancies|Glucose|BloodPressure|SkinThickness|Insulin| BMI|DiabetesPedigreeFunction|Age|Outcome|\n",
      "+-----------+-------+-------------+-------------+-------+----+------------------------+---+-------+\n",
      "|          6|    148|           72|           35|   NULL|33.6|                   0.627| 50|      1|\n",
      "|          1|     85|           66|           29|   NULL|26.6|                   0.351| 31|      0|\n",
      "|          8|    183|           64|         NULL|   NULL|23.3|                   0.672| 32|      1|\n",
      "|          1|     89|           66|           23|     94|28.1|                   0.167| 21|      0|\n",
      "|          0|    137|           40|           35|    168|43.1|                   2.288| 33|      1|\n",
      "|          5|    116|           74|         NULL|   NULL|25.6|                   0.201| 30|      0|\n",
      "|          3|     78|           50|           32|     88|31.0|                   0.248| 26|      1|\n",
      "|         10|    115|         NULL|         NULL|   NULL|35.3|                   0.134| 29|      0|\n",
      "|          2|    197|           70|           45|    543|30.5|                   0.158| 53|      1|\n",
      "|          8|    125|           96|         NULL|   NULL|NULL|                   0.232| 54|      1|\n",
      "|          4|    110|           92|         NULL|   NULL|37.6|                   0.191| 30|      0|\n",
      "|         10|    168|           74|         NULL|   NULL|38.0|                   0.537| 34|      1|\n",
      "|         10|    139|           80|         NULL|   NULL|27.1|                   1.441| 57|      0|\n",
      "|          1|    189|           60|           23|    846|30.1|                   0.398| 59|      1|\n",
      "|          5|    166|           72|           19|    175|25.8|                   0.587| 51|      1|\n",
      "|          7|    100|         NULL|         NULL|   NULL|30.0|                   0.484| 32|      1|\n",
      "|          0|    118|           84|           47|    230|45.8|                   0.551| 31|      1|\n",
      "|          7|    107|           74|         NULL|   NULL|29.6|                   0.254| 31|      1|\n",
      "|          1|    103|           30|           38|     83|43.3|                   0.183| 33|      0|\n",
      "|          1|    115|           70|           30|     96|34.6|                   0.529| 32|      1|\n",
      "+-----------+-------+-------------+-------------+-------+----+------------------------+---+-------+\n",
      "only showing top 20 rows\n",
      "\n"
     ]
    }
   ],
   "source": [
    "#Replace zero with null for filling missing values\n",
    "from pyspark.sql.functions import when, col\n",
    "\n",
    "def replace_zero_with_null(df):\n",
    "    for i, column_name in enumerate(df.columns):\n",
    "        # Skip first and last column\n",
    "        if i == 0 or i == len(df.columns) - 1:\n",
    "            continue\n",
    "        df = df.withColumn(column_name, when(col(column_name) == 0, None).otherwise(col(column_name)))\n",
    "    return df\n",
    "\n",
    "my_data = replace_zero_with_null(my_data)\n",
    "my_data.show()"
   ]
  },
  {
   "cell_type": "code",
   "execution_count": 21,
   "metadata": {
    "id": "AFJlXsjC5Azl"
   },
   "outputs": [],
   "source": [
    "#impute values in null place in\n",
    "imputer = Imputer(\n",
    "    inputCols=my_data.columns,\n",
    "    outputCols=my_data.columns\n",
    "    ).setStrategy(\"median\")\n",
    "\n",
    "\n",
    "my_data1 = imputer.fit(my_data).transform(my_data)"
   ]
  },
  {
   "cell_type": "code",
   "execution_count": 22,
   "metadata": {
    "colab": {
     "base_uri": "https://localhost:8080/",
     "height": 0
    },
    "id": "_xiW-9L-5EF9",
    "outputId": "65ddf49d-ad80-4ebd-c7ef-260da91d5951"
   },
   "outputs": [
    {
     "name": "stdout",
     "output_type": "stream",
     "text": [
      "+-----------+-------+-------------+-------------+-------+----+------------------------+---+-------+\n",
      "|Pregnancies|Glucose|BloodPressure|SkinThickness|Insulin| BMI|DiabetesPedigreeFunction|Age|Outcome|\n",
      "+-----------+-------+-------------+-------------+-------+----+------------------------+---+-------+\n",
      "|          6|    148|           72|           35|    125|33.6|                   0.627| 50|      1|\n",
      "|          1|     85|           66|           29|    125|26.6|                   0.351| 31|      0|\n",
      "|          8|    183|           64|           29|    125|23.3|                   0.672| 32|      1|\n",
      "|          1|     89|           66|           23|     94|28.1|                   0.167| 21|      0|\n",
      "|          0|    137|           40|           35|    168|43.1|                   2.288| 33|      1|\n",
      "|          5|    116|           74|           29|    125|25.6|                   0.201| 30|      0|\n",
      "|          3|     78|           50|           32|     88|31.0|                   0.248| 26|      1|\n",
      "|         10|    115|           72|           29|    125|35.3|                   0.134| 29|      0|\n",
      "|          2|    197|           70|           45|    543|30.5|                   0.158| 53|      1|\n",
      "|          8|    125|           96|           29|    125|32.3|                   0.232| 54|      1|\n",
      "|          4|    110|           92|           29|    125|37.6|                   0.191| 30|      0|\n",
      "|         10|    168|           74|           29|    125|38.0|                   0.537| 34|      1|\n",
      "|         10|    139|           80|           29|    125|27.1|                   1.441| 57|      0|\n",
      "|          1|    189|           60|           23|    846|30.1|                   0.398| 59|      1|\n",
      "|          5|    166|           72|           19|    175|25.8|                   0.587| 51|      1|\n",
      "|          7|    100|           72|           29|    125|30.0|                   0.484| 32|      1|\n",
      "|          0|    118|           84|           47|    230|45.8|                   0.551| 31|      1|\n",
      "|          7|    107|           74|           29|    125|29.6|                   0.254| 31|      1|\n",
      "|          1|    103|           30|           38|     83|43.3|                   0.183| 33|      0|\n",
      "|          1|    115|           70|           30|     96|34.6|                   0.529| 32|      1|\n",
      "+-----------+-------+-------------+-------------+-------+----+------------------------+---+-------+\n",
      "only showing top 20 rows\n",
      "\n"
     ]
    }
   ],
   "source": [
    "my_data1.show()"
   ]
  },
  {
   "cell_type": "code",
   "execution_count": 23,
   "metadata": {
    "colab": {
     "base_uri": "https://localhost:8080/",
     "height": 0
    },
    "id": "fZnXuw5Y5JPf",
    "outputId": "99504f1c-2b82-48bc-d282-a99065063189"
   },
   "outputs": [
    {
     "name": "stdout",
     "output_type": "stream",
     "text": [
      "+--------------------+-------+\n",
      "|            features|Outcome|\n",
      "+--------------------+-------+\n",
      "|[6.0,148.0,72.0,3...|      1|\n",
      "|[1.0,85.0,66.0,29...|      0|\n",
      "|[8.0,183.0,64.0,2...|      1|\n",
      "|[1.0,89.0,66.0,23...|      0|\n",
      "|[0.0,137.0,40.0,3...|      1|\n",
      "|[5.0,116.0,74.0,2...|      0|\n",
      "|[3.0,78.0,50.0,32...|      1|\n",
      "|[10.0,115.0,72.0,...|      0|\n",
      "|[2.0,197.0,70.0,4...|      1|\n",
      "|[8.0,125.0,96.0,2...|      1|\n",
      "|[4.0,110.0,92.0,2...|      0|\n",
      "|[10.0,168.0,74.0,...|      1|\n",
      "|[10.0,139.0,80.0,...|      0|\n",
      "|[1.0,189.0,60.0,2...|      1|\n",
      "|[5.0,166.0,72.0,1...|      1|\n",
      "|[7.0,100.0,72.0,2...|      1|\n",
      "|[0.0,118.0,84.0,4...|      1|\n",
      "|[7.0,107.0,74.0,2...|      1|\n",
      "|[1.0,103.0,30.0,3...|      0|\n",
      "|[1.0,115.0,70.0,3...|      1|\n",
      "+--------------------+-------+\n",
      "only showing top 20 rows\n",
      "\n"
     ]
    }
   ],
   "source": [
    "# specify the input and output columns of the vector assembler\n",
    "assembler = VectorAssembler(inputCols=['Pregnancies',\n",
    "                                       'Glucose',\n",
    "                                       'BloodPressure',\n",
    "                                       'SkinThickness',\n",
    "                                       'Insulin', 'BMI',\n",
    "                                       'DiabetesPedigreeFunction',\n",
    "                                       'Age'],\n",
    "                             outputCol='features')\n",
    "\n",
    "final_data = assembler.transform(my_data1)\n",
    "final_data.select('features', 'Outcome').show()"
   ]
  },
  {
   "cell_type": "code",
   "execution_count": 24,
   "metadata": {
    "id": "EXvjfEVP5NE_"
   },
   "outputs": [],
   "source": [
    "#split data for test and train\n",
    "train_data,test_data=final_data.randomSplit([0.8,0.2])"
   ]
  },
  {
   "cell_type": "code",
   "execution_count": 25,
   "metadata": {
    "id": "iaOpkJH15PNu"
   },
   "outputs": [],
   "source": [
    "#train the model\n",
    "lr=LogisticRegression(featuresCol='features',labelCol='Outcome', maxIter=10)\n",
    "model=lr.fit(train_data)"
   ]
  },
  {
   "cell_type": "code",
   "execution_count": 26,
   "metadata": {
    "colab": {
     "base_uri": "https://localhost:8080/",
     "height": 0
    },
    "id": "KdNMc0Gl5RR_",
    "outputId": "198327bb-2b27-435d-cdcb-1fd97be4acaf"
   },
   "outputs": [
    {
     "name": "stdout",
     "output_type": "stream",
     "text": [
      "+-----------+-------+-------------+-------------+-------+----+------------------------+---+-------+--------------------+--------------------+--------------------+----------+\n",
      "|Pregnancies|Glucose|BloodPressure|SkinThickness|Insulin| BMI|DiabetesPedigreeFunction|Age|Outcome|            features|       rawPrediction|         probability|prediction|\n",
      "+-----------+-------+-------------+-------------+-------+----+------------------------+---+-------+--------------------+--------------------+--------------------+----------+\n",
      "|          0|     74|           52|           10|     36|27.8|                   0.269| 22|      0|[0.0,74.0,52.0,10...|[3.71020642670902...|[0.97611212436466...|       0.0|\n",
      "|          0|     94|           72|           29|    125|32.3|                   0.256| 25|      0|[0.0,94.0,72.0,29...|[2.71351187598598...|[0.93781925636153...|       0.0|\n",
      "|          0|     99|           72|           29|    125|25.0|                   0.253| 22|      0|[0.0,99.0,72.0,29...|[3.22011512284348...|[0.96158426735813...|       0.0|\n",
      "|          0|    100|           70|           26|     50|30.8|                   0.597| 21|      0|[0.0,100.0,70.0,2...|[2.22763041168432...|[0.90270343671437...|       0.0|\n",
      "|          0|    102|           64|           46|     78|40.6|                   0.496| 21|      0|[0.0,102.0,64.0,4...|[1.13499355477916...|[0.75675926421981...|       0.0|\n",
      "+-----------+-------+-------------+-------------+-------+----+------------------------+---+-------+--------------------+--------------------+--------------------+----------+\n",
      "only showing top 5 rows\n",
      "\n"
     ]
    }
   ],
   "source": [
    "#test model\n",
    "prediction=model.transform(test_data)\n",
    "prediction.show(5)"
   ]
  },
  {
   "cell_type": "code",
   "execution_count": null,
   "metadata": {
    "id": "_bZL-dE05VlL"
   },
   "outputs": [],
   "source": [
    "#create a pipeline\n",
    "from pyspark.ml import Pipeline\n",
    "pipeline = Pipeline(stages=[replace_zero_with_null,imputer, assembler, lr])\n",
    "pipeline_model = pipeline.fit(my_data1)\n",
    "pred = pipeline_model.transform(my_data1)\n",
    "pred.show(5)"
   ]
  },
  {
   "cell_type": "code",
   "execution_count": 28,
   "metadata": {
    "colab": {
     "base_uri": "https://localhost:8080/",
     "height": 0
    },
    "id": "zUE-7Q3b5tx8",
    "outputId": "e872ce4f-4df7-4a1a-aa10-79a6eab33f21"
   },
   "outputs": [
    {
     "name": "stdout",
     "output_type": "stream",
     "text": [
      "+-----------+-------+-------------+-------------+-------+----+------------------------+---+-------+\n",
      "|Pregnancies|Glucose|BloodPressure|SkinThickness|Insulin| BMI|DiabetesPedigreeFunction|Age|Outcome|\n",
      "+-----------+-------+-------------+-------------+-------+----+------------------------+---+-------+\n",
      "|          1|    166|           72|           15|     17|33.6|                   0.627| 50|      0|\n",
      "+-----------+-------+-------------+-------------+-------+----+------------------------+---+-------+\n",
      "\n"
     ]
    }
   ],
   "source": [
    "#create new data for prediction with outcome column\n",
    "Pregnancies=1\n",
    "Glucose=166\n",
    "BloodPressure=72\n",
    "SkinThickness=15\n",
    "Insulin=17\n",
    "BMI=33.6\n",
    "DiabetesPedigreeFunction=0.627\n",
    "Age=50\n",
    "# Add a placeholder value for 'Outcome' (you'll need to determine the appropriate value based on your problem)\n",
    "Outcome = 0\n",
    "new_data=spark.createDataFrame([(Pregnancies,Glucose,BloodPressure,SkinThickness,Insulin,BMI,DiabetesPedigreeFunction,Age, Outcome)],\n",
    "                               ['Pregnancies','Glucose','BloodPressure','SkinThickness','Insulin','BMI','DiabetesPedigreeFunction','Age', 'Outcome'])\n",
    "new_data.show()"
   ]
  },
  {
   "cell_type": "code",
   "execution_count": null,
   "metadata": {
    "id": "1kAbFTBi50yj"
   },
   "outputs": [],
   "source": [
    "#predicte new data through pipline\n",
    "pipeline_model.transform(new_data).show()"
   ]
  }
 ],
 "metadata": {
  "colab": {
   "collapsed_sections": [
    "oFJRIgjRzfMB",
    "387XOxUf0hcH",
    "9bLjFrIu6YCO",
    "fRoSVyPA6tOt",
    "jpFjtjap7MU_",
    "jUjzw1ME75Xu",
    "h7uWYqmm9qek",
    "fVDOYqOl8ngZ"
   ],
   "provenance": []
  },
  "kernelspec": {
   "display_name": "Python 3 (ipykernel)",
   "language": "python",
   "name": "python3"
  },
  "language_info": {
   "codemirror_mode": {
    "name": "ipython",
    "version": 3
   },
   "file_extension": ".py",
   "mimetype": "text/x-python",
   "name": "python",
   "nbconvert_exporter": "python",
   "pygments_lexer": "ipython3",
   "version": "3.9.12"
  }
 },
 "nbformat": 4,
 "nbformat_minor": 1
}
