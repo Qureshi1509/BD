{
 "cells": [
  {
   "cell_type": "code",
   "execution_count": null,
   "id": "70a37c84",
   "metadata": {},
   "outputs": [],
   "source": [
    "# **Practical 08 : Greedy Algorithm for Maximum Matching**"
   ]
  },
  {
   "cell_type": "code",
   "execution_count": 2,
   "id": "be1450ae",
   "metadata": {},
   "outputs": [
    {
     "name": "stdout",
     "output_type": "stream",
     "text": [
      "Is the graph bipartite? True\n",
      "Greedy Maximum Matching: {(3, 'c'), (2, 'b'), (1, 'a')}\n"
     ]
    },
    {
     "data": {
      "image/png": "[encoded data removed]",
      "text/plain": [
       "<Figure size 432x288 with 1 Axes>"
      ]
     },
     "metadata": {},
     "output_type": "display_data"
    }
   ],
   "source": [
    "import networkx as nx\n",
    "import matplotlib.pyplot as plt\n",
    "from networkx.algorithms import bipartite\n",
    "\n",
    "# Create a bipartite graph\n",
    "def create_bipartite_graph():\n",
    "    B = nx.Graph()\n",
    "    # Add nodes with the attribute \"bipartite\"\n",
    "    top_nodes = {1, 2, 3}\n",
    "    bottom_nodes = {'a', 'b', 'c'}\n",
    "    B.add_nodes_from(top_nodes, bipartite=0)\n",
    "    B.add_nodes_from(bottom_nodes, bipartite=1)\n",
    "\n",
    "    # Add edges between nodes in the two sets\n",
    "    edges = [(1, 'a'), (1, 'b'), (2, 'b'), (3, 'c')]\n",
    "    B.add_edges_from(edges)\n",
    "\n",
    "    return B, top_nodes, bottom_nodes\n",
    "\n",
    "# Greedy algorithm for maximum matching\n",
    "def greedy_maximum_matching(B, top_nodes, bottom_nodes):\n",
    "    matching = set()  # To store the matching pairs\n",
    "    matched_nodes = set()  # To keep track of matched nodes\n",
    "\n",
    "    # Iterate over edges greedily\n",
    "    for u, v in B.edges():\n",
    "        if u not in matched_nodes and v not in matched_nodes:\n",
    "            matching.add((u, v))\n",
    "            matched_nodes.add(u)\n",
    "            matched_nodes.add(v)\n",
    "\n",
    "    return matching\n",
    "\n",
    "# Step 1: Create a bipartite graph\n",
    "B, top_nodes, bottom_nodes = create_bipartite_graph()\n",
    "\n",
    "# Step 2: Check if the graph is bipartite\n",
    "is_bipartite = bipartite.is_bipartite(B)\n",
    "print(f\"Is the graph bipartite? {is_bipartite}\")\n",
    "\n",
    "# Step 3: Perform greedy maximum matching if bipartite\n",
    "if is_bipartite:\n",
    "    # Apply the greedy maximum matching algorithm\n",
    "    matching = greedy_maximum_matching(B, top_nodes, bottom_nodes)\n",
    "    print(f\"Greedy Maximum Matching: {matching}\")\n",
    "\n",
    "    # Step 4: Plot the graph with matching edges highlighted\n",
    "    pos = nx.bipartite_layout(B, top_nodes)\n",
    "\n",
    "    # Highlight matching edges in red\n",
    "    matching_edges = list(matching)\n",
    "    edge_colors = ['red' if (u, v) in matching_edges or (v, u) in matching_edges else 'black' for u, v in B.edges()]\n",
    "\n",
    "    # Create figure and axis before drawing\n",
    "    fig, ax = plt.subplots()\n",
    "    nx.draw(B, pos, with_labels=True, edge_color=edge_colors, node_color=['lightblue' if n in top_nodes else 'lightgreen' for n in B.nodes()], node_size=2000, font_size=15, ax=ax)\n",
    "    plt.title(\"Bipartite Graph with Greedy Maximum Matching\")\n",
    "    plt.show()\n",
    "else:\n",
    "    print(\"The graph is not bipartite.\")\n"
   ]
  }
 ],
 "metadata": {
  "kernelspec": {
   "display_name": "Python 3 (ipykernel)",
   "language": "python",
   "name": "python3"
  },
  "language_info": {
   "codemirror_mode": {
    "name": "ipython",
    "version": 3
   },
   "file_extension": ".py",
   "mimetype": "text/x-python",
   "name": "python",
   "nbconvert_exporter": "python",
   "pygments_lexer": "ipython3",
   "version": "3.9.12"
  }
 },
 "nbformat": 4,
 "nbformat_minor": 5
}
