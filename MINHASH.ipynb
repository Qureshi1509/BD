{
 "cells": [
  {
   "cell_type": "code",
   "execution_count": 1,
   "id": "81144dad",
   "metadata": {},
   "outputs": [],
   "source": [
    "# text=input(\"Enter a string: \")\n",
    "# kval =int(input(\"Enter k-value: \"))\n",
    "text=\"hello\"\n",
    "kval=2\n",
    "def shinglewithsepr(text, kval):\n",
    "  shingles = []\n",
    "  tokens = text.split(\" \")\n",
    "  for i in range(0, len(tokens), kval):\n",
    "      shingle = tokens[i:i + kval]\n",
    "      shingles.append(shingle)\n",
    "  #print(\"Shingles using separator: \", shingles)\n",
    "  return shingles\n",
    "def shinglewithoutsepr(text, kval):\n",
    "  shingles = []\n",
    "  for i in range(len(text)-kval+1):\n",
    "      shingle = text[i:i + kval]\n",
    "      shingles.append(shingle)\n",
    "  #print(\"Shingles without using separator: \", shingles)\n",
    "  return shingles\n",
    "wordshingles = shinglewithsepr(text, kval)\n",
    "charshingles = shinglewithoutsepr(text, kval)"
   ]
  },
  {
   "cell_type": "code",
   "execution_count": 2,
   "id": "a42a25c2",
   "metadata": {
    "scrolled": true
   },
   "outputs": [
    {
     "name": "stderr",
     "output_type": "stream",
     "text": [
      "C:\\Users\\Qureshi\\anaconda3\\lib\\site-packages\\pandas\\core\\computation\\expressions.py:21: UserWarning: Pandas requires version '2.8.4' or newer of 'numexpr' (version '2.8.1' currently installed).\n",
      "  from pandas.core.computation.check import NUMEXPR_INSTALLED\n",
      "C:\\Users\\Qureshi\\anaconda3\\lib\\site-packages\\pandas\\core\\arrays\\masked.py:60: UserWarning: Pandas requires version '1.3.6' or newer of 'bottleneck' (version '1.3.4' currently installed).\n",
      "  from pandas.core import (\n"
     ]
    },
    {
     "name": "stdout",
     "output_type": "stream",
     "text": [
      "Shingle 1: ['Tod', 'oda', 'day', 'ay ', 'y i', ' is', 'is ', 's M', ' Mo', 'Mon', 'ond', 'nda', 'day', 'ay.']\n",
      "Shingle 2: ['Tod', 'oda', 'day', 'ay ', 'y i', ' is', 'is ', 's a', ' a ', 'a g', ' go', 'goo', 'ood', 'od ', 'd d', ' da', 'day', 'ay.']\n",
      "Shingle 3: ['Goo', 'ood', 'od ', 'd d', ' da', 'day', 'ay.']\n",
      "Shingle 4: ['Tom', 'omo', 'mor', 'orr', 'rro', 'row', 'ow ', 'w w', ' wi', 'wil', 'ill', 'll ', 'l b', ' be', 'be ', 'e a', ' a ', 'a g', ' go', 'goo', 'ood', 'od ', 'd d', ' da', 'day', 'ay.']\n",
      "All shingles: [' go', 'goo', 'ood', 's M', 'Tod', 'rro', 'oda', 'wil', 'Mon', ' da', 'ond', 'l b', 'day', ' wi', ' a ', 'nda', 'd d', 'ill', 'ay.', 'row', 'be ', 'Goo', ' be', 'e a', 'll ', 'omo', 'ow ', 'Tom', 's a', 'od ', 'y i', 'a g', 'is ', 'ay ', 'mor', 'orr', ' is', 'w w', ' Mo']\n",
      "39\n",
      "   Shingle  doc1  doc2  doc3  doc4  Hash1  Hash2\n",
      "0       go     0     1     0     1     11     11\n",
      "1      goo     0     1     0     1     28     18\n",
      "2      ood     0     1     1     1      6     25\n",
      "3      s M     1     0     0     0     23     32\n",
      "4      Tod     1     1     0     0      1      0\n",
      "5      rro     0     0     0     1     18      7\n",
      "6      oda     1     1     0     0     35     14\n",
      "7      wil     0     0     0     1     13     21\n",
      "8      Mon     1     0     0     0     30     28\n",
      "9       da     0     1     1     1      8     35\n",
      "10     ond     1     0     0     0     25      3\n",
      "11     l b     0     0     0     1      3     10\n",
      "12     day     1     1     1     1     20     17\n",
      "13      wi     0     0     0     1     37     24\n",
      "14      a      0     1     0     1     15     31\n",
      "15     nda     1     0     0     0     32     38\n",
      "16     d d     0     1     1     1     10      6\n",
      "17     ill     0     0     0     1     27     13\n",
      "18     ay.     1     1     1     1      5     20\n",
      "19     row     0     0     0     1     22     27\n",
      "20     be      0     0     0     1      0     34\n",
      "21     Goo     0     0     1     0     17      2\n",
      "22      be     0     0     0     1     34      9\n",
      "23     e a     0     0     0     1     12     16\n",
      "24     ll      0     0     0     1     29     23\n",
      "25     omo     0     0     0     1      7     30\n",
      "26     ow      0     0     0     1     24     37\n",
      "27     Tom     0     0     0     1      2      5\n",
      "28     s a     0     1     0     0     19     12\n",
      "29     od      0     1     1     1     36     19\n",
      "30     y i     1     1     0     0     14     26\n",
      "31     a g     0     1     0     1     31     33\n",
      "32     is      1     1     0     0      9      1\n",
      "33     ay      1     1     0     0     26      8\n",
      "34     mor     0     0     0     1      4     15\n",
      "35     orr     0     0     0     1     21     22\n",
      "36      is     1     1     0     0     38     29\n",
      "37     w w     0     0     0     1     16     36\n",
      "38      Mo     1     0     0     0     33      4\n"
     ]
    },
    {
     "name": "stderr",
     "output_type": "stream",
     "text": [
      "C:\\Users\\Qureshi\\AppData\\Local\\Temp\\ipykernel_19320\\2297639974.py:27: FutureWarning: Downcasting object dtype arrays on .fillna, .ffill, .bfill is deprecated and will change in a future version. Call result.infer_objects(copy=False) instead. To opt-in to the future behavior, set `pd.set_option('future.no_silent_downcasting', True)`\n",
      "  df.fillna(0, inplace=True)\n"
     ]
    }
   ],
   "source": [
    "import pandas as pd\n",
    "import numpy as np\n",
    "import random\n",
    "# with open(\"1.txt\", \"r\") as file:\n",
    "#   doc1 = file.read()\n",
    "# print(doc1)\n",
    "# with open(\"2.txt\", \"r\") as file:\n",
    "#   doc2 = file.read()\n",
    "# print(doc2)\n",
    "doc1 = \"Today is Monday.\"\n",
    "doc2 = \"Today is a good day.\"\n",
    "doc3 = \"Good day.\"\n",
    "doc4 = \"Tomorrow will be a good day.\"\n",
    "kval =3\n",
    "shingle1 = shinglewithoutsepr(doc1, kval)\n",
    "shingle2 = shinglewithoutsepr(doc2, kval)\n",
    "shingle3 = shinglewithoutsepr(doc3, kval)\n",
    "shingle4 = shinglewithoutsepr(doc4, kval)\n",
    "all_shingles = list(set(shingle1 + shingle2+shingle3+shingle4))\n",
    "print(\"Shingle 1:\", shingle1)\n",
    "print(\"Shingle 2:\", shingle2)\n",
    "print(\"Shingle 3:\", shingle3)\n",
    "print(\"Shingle 4:\", shingle4)\n",
    "print(\"All shingles:\", all_shingles)\n",
    "df = pd.DataFrame(columns=[\"Shingle\", \"doc1\", \"doc2\",\"doc3\",\"doc4\"])\n",
    "df[\"Shingle\"] = all_shingles\n",
    "df.fillna(0, inplace=True)\n",
    "for i in range(len(shingle1)):\n",
    "    df.loc[df[\"Shingle\"] == shingle1[i], \"doc1\"] = 1\n",
    "for i in range(len(shingle2)):\n",
    "    df.loc[df[\"Shingle\"] == shingle2[i], \"doc2\"] = 1\n",
    "for i in range(len(shingle3)):\n",
    "    df.loc[df[\"Shingle\"] == shingle3[i], \"doc3\"] = 1\n",
    "for i in range(len(shingle4)):\n",
    "    df.loc[df[\"Shingle\"] == shingle4[i], \"doc4\"] = 1\n",
    "df[\"Hash1\"] = df.index.map(lambda x: (17 * int(x) + 11) % len(df))\n",
    "df[\"Hash2\"] = df.index.map(lambda x: (7 * int(x) + 11) % len(df))\n",
    "print(len(df))\n",
    "print(df)"
   ]
  },
  {
   "cell_type": "code",
   "execution_count": 3,
   "id": "0db41aef",
   "metadata": {},
   "outputs": [
    {
     "name": "stdout",
     "output_type": "stream",
     "text": [
      "Signature matrix =\n",
      " [[1. 1. 5. 0.]\n",
      " [0. 0. 2. 5.]]\n"
     ]
    }
   ],
   "source": [
    "sig = np.full((2,4), np.inf)\n",
    "for index, row in df.iterrows():\n",
    "   if row[\"doc1\"] == 1:\n",
    "       sig[0, 0] = min(sig[0, 0], row[\"Hash1\"])\n",
    "       sig[1, 0] = min(sig[1, 0], row[\"Hash2\"])\n",
    "   if row[\"doc2\"] == 1:\n",
    "       sig[0, 1] = min(sig[0, 1], row[\"Hash1\"])\n",
    "       sig[1, 1] = min(sig[1, 1], row[\"Hash2\"])\n",
    "   if row[\"doc3\"] == 1:\n",
    "       sig[0, 2] = min(sig[0, 2], row[\"Hash1\"])\n",
    "       sig[1, 2] = min(sig[1, 2], row[\"Hash2\"])\n",
    "   if row[\"doc4\"] == 1:\n",
    "       sig[0, 3] = min(sig[0, 3], row[\"Hash1\"])\n",
    "       sig[1, 3] = min(sig[1, 3], row[\"Hash2\"])\n",
    "print(\"Signature matrix =\\n\",sig)"
   ]
  }
 ],
 "metadata": {
  "kernelspec": {
   "display_name": "Python 3 (ipykernel)",
   "language": "python",
   "name": "python3"
  },
  "language_info": {
   "codemirror_mode": {
    "name": "ipython",
    "version": 3
   },
   "file_extension": ".py",
   "mimetype": "text/x-python",
   "name": "python",
   "nbconvert_exporter": "python",
   "pygments_lexer": "ipython3",
   "version": "3.9.12"
  }
 },
 "nbformat": 4,
 "nbformat_minor": 5
}
